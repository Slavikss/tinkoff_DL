{
  "cells": [
    {
      "cell_type": "markdown",
      "id": "75cf4793",
      "metadata": {
        "id": "75cf4793"
      },
      "source": [
        "# Методы оптимизации\n",
        "\n",
        "# Обучение с обычным SGD\n",
        "\n",
        "Загрузим данные, создадим модель и обучим с обычным SGD."
      ]
    },
    {
      "cell_type": "code",
      "execution_count": 1,
      "id": "9b4c6ea3",
      "metadata": {
        "colab": {
          "base_uri": "https://localhost:8080/",
          "height": 726,
          "referenced_widgets": [
            "179db70dea8c4887b8014715e7a6ec96",
            "63d9962e36a44ba4a383f0619e728d05",
            "5ded12783cff4f308000d9a970e37719",
            "ef87303a94154eb99717a7b1579fff3c",
            "0a953c45955949bb899a53462b8d101f",
            "ff437bab52374dcf850195dbbeb9383f",
            "2e0264e1267f41738ffc50bcfa3c5f47",
            "c9cb82438d56498ebf2181f92d2f3efd",
            "20fbbd297543461f9fafadc5a53154d2",
            "1139d6576a934666b8aee3a706c17b83",
            "93ba44babb224acaa52c5174bc44764c",
            "bbba088e2cd44ac88d9fc3975fe84468",
            "64560006f4a5411f98bf8a88fe40f8bd",
            "599f628b326c48dbb1422af3fbeed102",
            "f1b6b8155ee8497193407c9d5b9c7a53",
            "8744e0736f2c4c7586706b7d236d9973",
            "07e4ade21eb346319afb152ed7788c5b",
            "98070610d6eb43df9d7f38e2fc71b648",
            "0af2aa0859e44442ac933a06597dd9fb",
            "4f021a0908de44d0bcbd6a83465f9f0d",
            "25dc4bdcfa3346928370b131c2c17898",
            "f2ec0aaeb30e4b96a66ad73221eda810",
            "ff7e2d5ee47d476b879fc8e9d5a225fc",
            "5d7992bdf47f45b6b033d43df9e47c73",
            "081d48d8615e4ece9a8b72edb4bd9471",
            "d84e6a16d6e54af99ee111d56a50a263",
            "c02eb27b78c94ccdbf17882438f99fb4",
            "7830229376ef4d3093fc185605878498",
            "6732f830d87f4107b2b410bfafb816d9",
            "7a9d622fea494d56a9613007adcfaeb4",
            "fced15c2c9244f09827d71c53c44d279",
            "2747e8fc02e6476d8d4de8bc24e70bfa",
            "e9eeaeadf6814b69b6ff47e5593341f9",
            "e02a4203bd0046dc88f8ac095823b869",
            "db57e7e77369499eb02bd196633d44d0",
            "65bde987a4854afeb7b47e4124323b59",
            "ecb20e7028f3484aacaa6b4104fa2908",
            "e0d072840ea441ef8593378e62df87c8",
            "9a50d81dd4e8429088e7fddb019fab06",
            "fcbcc34d7e9c4c399b94c6eee6023815",
            "a88d80ba263f43b8a6c19c56348d9c39",
            "7294782a05364229a45192ee8663b583",
            "dfcbea64321c4d99a75f8fcd0957d06a",
            "fd4c9527f2f540fcaaca28446176d3f5"
          ]
        },
        "id": "9b4c6ea3",
        "outputId": "5c28e275-41af-4534-87af-b74d6ace2028"
      },
      "outputs": [
        {
          "output_type": "stream",
          "name": "stdout",
          "text": [
            "USE CUDA: True\n",
            "Downloading http://fashion-mnist.s3-website.eu-central-1.amazonaws.com/train-images-idx3-ubyte.gz\n",
            "Downloading http://fashion-mnist.s3-website.eu-central-1.amazonaws.com/train-images-idx3-ubyte.gz to mnist/FashionMNIST/raw/train-images-idx3-ubyte.gz\n"
          ]
        },
        {
          "output_type": "display_data",
          "data": {
            "text/plain": [
              "  0%|          | 0/26421880 [00:00<?, ?it/s]"
            ],
            "application/vnd.jupyter.widget-view+json": {
              "version_major": 2,
              "version_minor": 0,
              "model_id": "179db70dea8c4887b8014715e7a6ec96"
            }
          },
          "metadata": {}
        },
        {
          "output_type": "stream",
          "name": "stdout",
          "text": [
            "Extracting mnist/FashionMNIST/raw/train-images-idx3-ubyte.gz to mnist/FashionMNIST/raw\n",
            "\n",
            "Downloading http://fashion-mnist.s3-website.eu-central-1.amazonaws.com/train-labels-idx1-ubyte.gz\n",
            "Downloading http://fashion-mnist.s3-website.eu-central-1.amazonaws.com/train-labels-idx1-ubyte.gz to mnist/FashionMNIST/raw/train-labels-idx1-ubyte.gz\n"
          ]
        },
        {
          "output_type": "display_data",
          "data": {
            "text/plain": [
              "  0%|          | 0/29515 [00:00<?, ?it/s]"
            ],
            "application/vnd.jupyter.widget-view+json": {
              "version_major": 2,
              "version_minor": 0,
              "model_id": "bbba088e2cd44ac88d9fc3975fe84468"
            }
          },
          "metadata": {}
        },
        {
          "output_type": "stream",
          "name": "stdout",
          "text": [
            "Extracting mnist/FashionMNIST/raw/train-labels-idx1-ubyte.gz to mnist/FashionMNIST/raw\n",
            "\n",
            "Downloading http://fashion-mnist.s3-website.eu-central-1.amazonaws.com/t10k-images-idx3-ubyte.gz\n",
            "Downloading http://fashion-mnist.s3-website.eu-central-1.amazonaws.com/t10k-images-idx3-ubyte.gz to mnist/FashionMNIST/raw/t10k-images-idx3-ubyte.gz\n"
          ]
        },
        {
          "output_type": "display_data",
          "data": {
            "text/plain": [
              "  0%|          | 0/4422102 [00:00<?, ?it/s]"
            ],
            "application/vnd.jupyter.widget-view+json": {
              "version_major": 2,
              "version_minor": 0,
              "model_id": "ff7e2d5ee47d476b879fc8e9d5a225fc"
            }
          },
          "metadata": {}
        },
        {
          "output_type": "stream",
          "name": "stdout",
          "text": [
            "Extracting mnist/FashionMNIST/raw/t10k-images-idx3-ubyte.gz to mnist/FashionMNIST/raw\n",
            "\n",
            "Downloading http://fashion-mnist.s3-website.eu-central-1.amazonaws.com/t10k-labels-idx1-ubyte.gz\n",
            "Downloading http://fashion-mnist.s3-website.eu-central-1.amazonaws.com/t10k-labels-idx1-ubyte.gz to mnist/FashionMNIST/raw/t10k-labels-idx1-ubyte.gz\n"
          ]
        },
        {
          "output_type": "display_data",
          "data": {
            "text/plain": [
              "  0%|          | 0/5148 [00:00<?, ?it/s]"
            ],
            "application/vnd.jupyter.widget-view+json": {
              "version_major": 2,
              "version_minor": 0,
              "model_id": "e02a4203bd0046dc88f8ac095823b869"
            }
          },
          "metadata": {}
        },
        {
          "output_type": "stream",
          "name": "stdout",
          "text": [
            "Extracting mnist/FashionMNIST/raw/t10k-labels-idx1-ubyte.gz to mnist/FashionMNIST/raw\n",
            "\n",
            "Train size: 10000\n",
            "Test size: 10000\n"
          ]
        },
        {
          "output_type": "display_data",
          "data": {
            "text/plain": [
              "<Figure size 432x288 with 9 Axes>"
            ],
            "image/png": "[encoded data removed]"
          },
          "metadata": {
            "needs_background": "light"
          }
        }
      ],
      "source": [
        "import torch\n",
        "import numpy as np\n",
        "import torchvision\n",
        "from torchvision.datasets import FashionMNIST\n",
        "from matplotlib import pyplot as plt\n",
        "from tqdm import tqdm\n",
        "\n",
        "USE_CUDA = torch.cuda.is_available()\n",
        "print(\"USE CUDA:\", USE_CUDA)\n",
        "\n",
        "torch.manual_seed(0)\n",
        "np.random.seed(0)\n",
        "\n",
        "SUBSET_SIZE = 10000\n",
        "BATCH_SIZE = 32\n",
        "\n",
        "transform = torchvision.transforms.ToTensor()\n",
        "\n",
        "train = FashionMNIST(\"mnist\", train=True, transform=transform, download=True)\n",
        "train = torch.utils.data.Subset(train, np.random.permutation(len(train))[:SUBSET_SIZE])\n",
        "test = FashionMNIST(\"mnist\", train=False, transform=transform, download=True)\n",
        "print(\"Train size:\", len(train))\n",
        "print(\"Test size:\", len(test))\n",
        "\n",
        "def draw(dataset):\n",
        "    images, labels = zip(*[dataset[i] for i in range(9)])\n",
        "    fig, axs = plt.subplots(3, 3, squeeze=False)\n",
        "    for i, image in enumerate(images):\n",
        "        ax = axs[i // 3, i % 3]\n",
        "        ax.imshow(image.permute(1, 2, 0).squeeze(-1))\n",
        "    plt.show()\n",
        "\n",
        "draw(train)"
      ]
    },
    {
      "cell_type": "code",
      "execution_count": 2,
      "id": "08ab8186",
      "metadata": {
        "id": "08ab8186"
      },
      "outputs": [],
      "source": [
        "def compute_accuracy(model, loader):\n",
        "    if USE_CUDA:\n",
        "        model.cuda()\n",
        "    model.eval()\n",
        "    n_correct = 0\n",
        "    n = 0\n",
        "    for images, labels in loader:\n",
        "        if USE_CUDA:\n",
        "            images = images.cuda()\n",
        "            labels = labels.cuda()\n",
        "        n_correct += (model(images).argmax(dim=1) == labels).sum().item()\n",
        "        n += len(images)\n",
        "    return n_correct / n"
      ]
    },
    {
      "cell_type": "code",
      "execution_count": 5,
      "id": "699767e8",
      "metadata": {
        "colab": {
          "base_uri": "https://localhost:8080/",
          "height": 487
        },
        "id": "699767e8",
        "outputId": "1744ed9b-b86e-49fe-f69e-ae441967268e"
      },
      "outputs": [
        {
          "output_type": "stream",
          "name": "stdout",
          "text": [
            "Num parameters 3226\n",
            "Epoch 0, loss 2.191, train 0.534, test 0.536\n",
            "Epoch 1, loss 1.213, train 0.690, test 0.687\n",
            "Epoch 2, loss 0.844, train 0.712, test 0.708\n",
            "Epoch 3, loss 0.777, train 0.723, test 0.715\n",
            "Epoch 4, loss 0.752, train 0.730, test 0.723\n",
            "Epoch 5, loss 0.741, train 0.734, test 0.725\n",
            "Epoch 6, loss 0.735, train 0.735, test 0.728\n",
            "Epoch 7, loss 0.733, train 0.736, test 0.728\n",
            "Epoch 8, loss 0.731, train 0.735, test 0.729\n",
            "Epoch 9, loss 0.731, train 0.736, test 0.729\n",
            "Weights norm 3.8519320487976074\n"
          ]
        },
        {
          "output_type": "display_data",
          "data": {
            "text/plain": [
              "<Figure size 432x288 with 1 Axes>"
            ],
            "image/png": "[encoded data removed]"
          },
          "metadata": {
            "needs_background": "light"
          }
        }
      ],
      "source": [
        "def get_model():\n",
        "    torch.manual_seed(0)\n",
        "    return torch.nn.Sequential(\n",
        "        torch.nn.Conv2d(1, 4, 3, stride=2),\n",
        "        torch.nn.ReLU(),\n",
        "        torch.nn.Conv2d(4, 8, 3, stride=2),\n",
        "        torch.nn.ReLU(),\n",
        "        torch.nn.Flatten(),\n",
        "        torch.nn.Linear(288, 10)\n",
        "    )\n",
        "\n",
        "def run(model, optimizer, epochs=10, scheduler=None):\n",
        "    print(\"Num parameters\", sum(map(torch.numel, model.parameters())))\n",
        "    if USE_CUDA:\n",
        "        model.cuda()\n",
        "    criterion = torch.nn.CrossEntropyLoss()\n",
        "    loader = torch.utils.data.DataLoader(train, batch_size=BATCH_SIZE, drop_last=True)\n",
        "    if scheduler is None:\n",
        "        scheduler = torch.optim.lr_scheduler.ExponentialLR(optimizer, gamma=0.5)\n",
        "    test_loader = torch.utils.data.DataLoader(test, batch_size=BATCH_SIZE)\n",
        "    train_accuracies = []\n",
        "    test_accuracies = []\n",
        "    for epoch in range(epochs):\n",
        "        model.train()\n",
        "        losses = []\n",
        "        for images, labels in loader:\n",
        "            if USE_CUDA:\n",
        "                images = images.cuda()\n",
        "                labels = labels.cuda()\n",
        "            logits = model(images)\n",
        "            loss = criterion(logits, labels)\n",
        "            loss.backward()\n",
        "            optimizer.step()\n",
        "            optimizer.zero_grad()\n",
        "            losses.append(loss.item())\n",
        "        model.eval()\n",
        "        train_accuracy = compute_accuracy(model, loader)\n",
        "        test_accuracy = compute_accuracy(model, test_loader)\n",
        "        train_accuracies.append(train_accuracy)\n",
        "        test_accuracies.append(test_accuracy)\n",
        "        print(f\"Epoch {epoch}, loss {np.mean(losses):.3f}, train {train_accuracy:.3f}, test {test_accuracy:.3f}\")\n",
        "        if scheduler is not None:\n",
        "            if isinstance(scheduler, torch.optim.lr_scheduler.ReduceLROnPlateau):\n",
        "                scheduler.step(np.mean(losses))\n",
        "            else:\n",
        "                scheduler.step()\n",
        "    print(\"Weights norm\", torch.linalg.norm(torch.concat([p.flatten() for p in model.parameters()])).item())\n",
        "    plt.xlabel(\"Epoch\")\n",
        "    plt.ylabel(\"Accuracy\")\n",
        "    plt.plot(train_accuracies, label=\"Train\", marker=\"o\")\n",
        "    plt.plot(test_accuracies, label=\"Test\", marker=\"o\")\n",
        "    plt.legend()\n",
        "    plt.show()\n",
        "\n",
        "model = get_model()\n",
        "optimizer = torch.optim.SGD(model.parameters(), lr=0.01)\n",
        "        \n",
        "run(model, optimizer)"
      ]
    },
    {
      "cell_type": "markdown",
      "id": "27600e35",
      "metadata": {
        "id": "27600e35"
      },
      "source": [
        "При обучении с обычным SGD модель достигла точности 72.9% на тестовом корпусе. Попробуем улучшить.\n",
        "\n",
        "# Улучшения\n",
        "\n",
        "**Задание 1**. Примените `torch.optim.RMSprop`. Получите точность на test не меньше 82%."
      ]
    },
    {
      "cell_type": "code",
      "execution_count": 7,
      "id": "d55d0c2c",
      "metadata": {
        "colab": {
          "base_uri": "https://localhost:8080/",
          "height": 487
        },
        "id": "d55d0c2c",
        "outputId": "06573f5c-7d27-4e27-a1c2-d8a205791877"
      },
      "outputs": [
        {
          "output_type": "stream",
          "name": "stdout",
          "text": [
            "Num parameters 3226\n",
            "Epoch 0, loss 0.678, train 0.806, test 0.789\n",
            "Epoch 1, loss 0.490, train 0.832, test 0.809\n",
            "Epoch 2, loss 0.453, train 0.838, test 0.813\n",
            "Epoch 3, loss 0.435, train 0.843, test 0.816\n",
            "Epoch 4, loss 0.427, train 0.845, test 0.819\n",
            "Epoch 5, loss 0.422, train 0.848, test 0.819\n",
            "Epoch 6, loss 0.420, train 0.848, test 0.820\n",
            "Epoch 7, loss 0.419, train 0.848, test 0.820\n",
            "Epoch 8, loss 0.418, train 0.848, test 0.820\n",
            "Epoch 9, loss 0.418, train 0.849, test 0.820\n",
            "Weights norm 14.60474967956543\n"
          ]
        },
        {
          "output_type": "display_data",
          "data": {
            "text/plain": [
              "<Figure size 432x288 with 1 Axes>"
            ],
            "image/png": "[encoded data removed]"
          },
          "metadata": {
            "needs_background": "light"
          }
        }
      ],
      "source": [
        "model = get_model()\n",
        "optimizer = torch.optim.RMSprop(model.parameters())\n",
        "        \n",
        "run(model, optimizer)"
      ]
    },
    {
      "cell_type": "markdown",
      "id": "37f95efe",
      "metadata": {
        "id": "37f95efe"
      },
      "source": [
        "**Задание 2.** Примените `torch.optim.Adam`. Получите точность на test не менее 83%."
      ]
    },
    {
      "cell_type": "code",
      "execution_count": 11,
      "id": "cd6b52ca",
      "metadata": {
        "colab": {
          "base_uri": "https://localhost:8080/",
          "height": 574
        },
        "id": "cd6b52ca",
        "outputId": "cbcaaee9-424d-4c26-f709-04511b8a184a"
      },
      "outputs": [
        {
          "output_type": "stream",
          "name": "stdout",
          "text": [
            "Num parameters 3226\n",
            "Epoch 0, loss 0.688, train 0.829, test 0.814\n",
            "Epoch 1, loss 0.457, train 0.844, test 0.825\n",
            "Epoch 2, loss 0.410, train 0.852, test 0.827\n",
            "Epoch 3, loss 0.385, train 0.863, test 0.835\n",
            "Epoch 4, loss 0.372, train 0.869, test 0.843\n",
            "Epoch 5, loss 0.365, train 0.871, test 0.843\n",
            "Epoch 6, loss 0.361, train 0.872, test 0.843\n",
            "Epoch 7, loss 0.359, train 0.871, test 0.844\n",
            "Epoch 8, loss 0.357, train 0.871, test 0.844\n",
            "Epoch 9, loss 0.357, train 0.871, test 0.844\n",
            "Epoch 10, loss 0.356, train 0.871, test 0.844\n",
            "Epoch 11, loss 0.356, train 0.871, test 0.844\n",
            "Epoch 12, loss 0.356, train 0.871, test 0.844\n",
            "Epoch 13, loss 0.356, train 0.871, test 0.844\n",
            "Epoch 14, loss 0.356, train 0.871, test 0.844\n",
            "Weights norm 14.819396018981934\n"
          ]
        },
        {
          "output_type": "display_data",
          "data": {
            "text/plain": [
              "<Figure size 432x288 with 1 Axes>"
            ],
            "image/png": "[encoded data removed]"
          },
          "metadata": {
            "needs_background": "light"
          }
        }
      ],
      "source": [
        "model = get_model()\n",
        "optimizer = torch.optim.Adam(model.parameters(),lr=0.011)\n",
        "\n",
        "run(model, optimizer,epochs=15)"
      ]
    },
    {
      "cell_type": "markdown",
      "id": "cbc59d3e",
      "metadata": {
        "id": "cbc59d3e"
      },
      "source": [
        "**Задание 3**. Примените momentum SGD. Получите точность на test не меньше 82%."
      ]
    },
    {
      "cell_type": "code",
      "execution_count": 12,
      "id": "ac82149e",
      "metadata": {
        "colab": {
          "base_uri": "https://localhost:8080/",
          "height": 487
        },
        "id": "ac82149e",
        "outputId": "604c81db-2b52-4c94-cde0-91246da1bbac"
      },
      "outputs": [
        {
          "output_type": "stream",
          "name": "stdout",
          "text": [
            "Num parameters 3226\n",
            "Epoch 0, loss 1.003, train 0.785, test 0.775\n",
            "Epoch 1, loss 0.537, train 0.817, test 0.804\n",
            "Epoch 2, loss 0.483, train 0.835, test 0.813\n",
            "Epoch 3, loss 0.461, train 0.834, test 0.811\n",
            "Epoch 4, loss 0.449, train 0.839, test 0.821\n",
            "Epoch 5, loss 0.442, train 0.846, test 0.824\n",
            "Epoch 6, loss 0.439, train 0.844, test 0.823\n",
            "Epoch 7, loss 0.437, train 0.845, test 0.823\n",
            "Epoch 8, loss 0.436, train 0.844, test 0.824\n",
            "Epoch 9, loss 0.435, train 0.844, test 0.824\n",
            "Weights norm 6.10204553604126\n"
          ]
        },
        {
          "output_type": "display_data",
          "data": {
            "text/plain": [
              "<Figure size 432x288 with 1 Axes>"
            ],
            "image/png": "[encoded data removed]"
          },
          "metadata": {
            "needs_background": "light"
          }
        }
      ],
      "source": [
        "model = get_model()\n",
        "optimizer = torch.optim.SGD(model.parameters(), lr=0.01, momentum=0.9)\n",
        "        \n",
        "run(model, optimizer)"
      ]
    },
    {
      "cell_type": "markdown",
      "id": "3a1f47b0",
      "metadata": {
        "id": "3a1f47b0"
      },
      "source": [
        "**Задание 4.** Примените Nesterov momentum. Получилось ли увеличить точность на train/test?"
      ]
    },
    {
      "cell_type": "code",
      "execution_count": 14,
      "id": "bee4f082",
      "metadata": {
        "colab": {
          "base_uri": "https://localhost:8080/",
          "height": 487
        },
        "id": "bee4f082",
        "outputId": "72ef99b1-3322-4ac5-bf0c-c0e6f46b39b2"
      },
      "outputs": [
        {
          "output_type": "stream",
          "name": "stdout",
          "text": [
            "Num parameters 3226\n",
            "Epoch 0, loss 0.965, train 0.794, test 0.783\n",
            "Epoch 1, loss 0.523, train 0.817, test 0.803\n",
            "Epoch 2, loss 0.476, train 0.838, test 0.819\n",
            "Epoch 3, loss 0.453, train 0.839, test 0.819\n",
            "Epoch 4, loss 0.441, train 0.842, test 0.823\n",
            "Epoch 5, loss 0.435, train 0.848, test 0.827\n",
            "Epoch 6, loss 0.431, train 0.848, test 0.826\n",
            "Epoch 7, loss 0.430, train 0.848, test 0.827\n",
            "Epoch 8, loss 0.428, train 0.848, test 0.827\n",
            "Epoch 9, loss 0.428, train 0.847, test 0.827\n",
            "Weights norm 6.046134948730469\n"
          ]
        },
        {
          "output_type": "display_data",
          "data": {
            "text/plain": [
              "<Figure size 432x288 with 1 Axes>"
            ],
            "image/png": "[encoded data removed]"
          },
          "metadata": {
            "needs_background": "light"
          }
        }
      ],
      "source": [
        "model = get_model()\n",
        "optimizer = torch.optim.SGD(model.parameters(), lr=0.01, momentum=0.9, nesterov=True)\n",
        "        \n",
        "run(model, optimizer)"
      ]
    },
    {
      "cell_type": "markdown",
      "id": "310b0941",
      "metadata": {
        "id": "310b0941"
      },
      "source": [
        "**Задание 5** Попробуйте добиться точности 83.5% на test используя momentum SGD и `torch.optim.lr_scheduler.StepLR` для изменения learning rate в процессе обучения."
      ]
    },
    {
      "cell_type": "code",
      "execution_count": 20,
      "id": "b925395b",
      "metadata": {
        "colab": {
          "base_uri": "https://localhost:8080/",
          "height": 490
        },
        "id": "b925395b",
        "outputId": "a61da0fa-17bb-4026-fd17-6db24462483b"
      },
      "outputs": [
        {
          "output_type": "stream",
          "name": "stdout",
          "text": [
            "Num parameters 3226\n",
            "Epoch 0, loss 0.789, train 0.795, test 0.784\n",
            "Epoch 1, loss 0.530, train 0.826, test 0.808\n",
            "Epoch 2, loss 0.482, train 0.832, test 0.812\n",
            "Epoch 3, loss 0.450, train 0.838, test 0.813\n",
            "Epoch 4, loss 0.433, train 0.836, test 0.815\n",
            "Epoch 5, loss 0.418, train 0.840, test 0.818\n",
            "Epoch 6, loss 0.399, train 0.846, test 0.820\n",
            "Epoch 7, loss 0.389, train 0.846, test 0.821\n",
            "Epoch 8, loss 0.380, train 0.853, test 0.826\n",
            "Epoch 9, loss 0.368, train 0.857, test 0.830\n",
            "Weights norm 15.317363739013672\n"
          ]
        },
        {
          "output_type": "display_data",
          "data": {
            "text/plain": [
              "<Figure size 432x288 with 1 Axes>"
            ],
            "image/png": "[encoded data removed]"
          },
          "metadata": {
            "needs_background": "light"
          }
        }
      ],
      "source": [
        "model = get_model()\n",
        "optimizer = torch.optim.SGD(model.parameters(), lr=0.1, momentum=0.7)\n",
        "scheduler =  torch.optim.lr_scheduler.StepLR(optimizer, 3, 0.9)\n",
        "        \n",
        "run(model, optimizer, scheduler=scheduler)"
      ]
    },
    {
      "cell_type": "markdown",
      "id": "cfbefdea",
      "metadata": {
        "id": "cfbefdea"
      },
      "source": [
        "**Выводы:**\n",
        "1. Какой optimizer показал себя лучше?\n",
        "2. Какие параметры сильнее всего влияли на обучение?\n",
        "3. Помог ли scheduler? Насколько?"
      ]
    }
  ],
  "metadata": {
    "kernelspec": {
      "display_name": "Python 3",
      "language": "python",
      "name": "python3"
    },
    "language_info": {
      "codemirror_mode": {
        "name": "ipython",
        "version": 3
      },
      "file_extension": ".py",
      "mimetype": "text/x-python",
      "name": "python",
      "nbconvert_exporter": "python",
      "pygments_lexer": "ipython3",
      "version": "3.8.9"
    },
    "colab": {
      "provenance": []
    },
    "accelerator": "GPU",
    "gpuClass": "standard",
    "widgets": {
      "application/vnd.jupyter.widget-state+json": {
        "179db70dea8c4887b8014715e7a6ec96": {
          "model_module": "@jupyter-widgets/controls",
          "model_name": "HBoxModel",
          "model_module_version": "1.5.0",
          "state": {
            "_dom_classes": [],
            "_model_module": "@jupyter-widgets/controls",
            "_model_module_version": "1.5.0",
            "_model_name": "HBoxModel",
            "_view_count": null,
            "_view_module": "@jupyter-widgets/controls",
            "_view_module_version": "1.5.0",
            "_view_name": "HBoxView",
            "box_style": "",
            "children": [
              "IPY_MODEL_63d9962e36a44ba4a383f0619e728d05",
              "IPY_MODEL_5ded12783cff4f308000d9a970e37719",
              "IPY_MODEL_ef87303a94154eb99717a7b1579fff3c"
            ],
            "layout": "IPY_MODEL_0a953c45955949bb899a53462b8d101f"
          }
        },
        "63d9962e36a44ba4a383f0619e728d05": {
          "model_module": "@jupyter-widgets/controls",
          "model_name": "HTMLModel",
          "model_module_version": "1.5.0",
          "state": {
            "_dom_classes": [],
            "_model_module": "@jupyter-widgets/controls",
            "_model_module_version": "1.5.0",
            "_model_name": "HTMLModel",
            "_view_count": null,
            "_view_module": "@jupyter-widgets/controls",
            "_view_module_version": "1.5.0",
            "_view_name": "HTMLView",
            "description": "",
            "description_tooltip": null,
            "layout": "IPY_MODEL_ff437bab52374dcf850195dbbeb9383f",
            "placeholder": "​",
            "style": "IPY_MODEL_2e0264e1267f41738ffc50bcfa3c5f47",
            "value": "100%"
          }
        },
        "5ded12783cff4f308000d9a970e37719": {
          "model_module": "@jupyter-widgets/controls",
          "model_name": "FloatProgressModel",
          "model_module_version": "1.5.0",
          "state": {
            "_dom_classes": [],
            "_model_module": "@jupyter-widgets/controls",
            "_model_module_version": "1.5.0",
            "_model_name": "FloatProgressModel",
            "_view_count": null,
            "_view_module": "@jupyter-widgets/controls",
            "_view_module_version": "1.5.0",
            "_view_name": "ProgressView",
            "bar_style": "success",
            "description": "",
            "description_tooltip": null,
            "layout": "IPY_MODEL_c9cb82438d56498ebf2181f92d2f3efd",
            "max": 26421880,
            "min": 0,
            "orientation": "horizontal",
            "style": "IPY_MODEL_20fbbd297543461f9fafadc5a53154d2",
            "value": 26421880
          }
        },
        "ef87303a94154eb99717a7b1579fff3c": {
          "model_module": "@jupyter-widgets/controls",
          "model_name": "HTMLModel",
          "model_module_version": "1.5.0",
          "state": {
            "_dom_classes": [],
            "_model_module": "@jupyter-widgets/controls",
            "_model_module_version": "1.5.0",
            "_model_name": "HTMLModel",
            "_view_count": null,
            "_view_module": "@jupyter-widgets/controls",
            "_view_module_version": "1.5.0",
            "_view_name": "HTMLView",
            "description": "",
            "description_tooltip": null,
            "layout": "IPY_MODEL_1139d6576a934666b8aee3a706c17b83",
            "placeholder": "​",
            "style": "IPY_MODEL_93ba44babb224acaa52c5174bc44764c",
            "value": " 26421880/26421880 [00:03&lt;00:00, 13862355.38it/s]"
          }
        },
        "0a953c45955949bb899a53462b8d101f": {
          "model_module": "@jupyter-widgets/base",
          "model_name": "LayoutModel",
          "model_module_version": "1.2.0",
          "state": {
            "_model_module": "@jupyter-widgets/base",
            "_model_module_version": "1.2.0",
            "_model_name": "LayoutModel",
            "_view_count": null,
            "_view_module": "@jupyter-widgets/base",
            "_view_module_version": "1.2.0",
            "_view_name": "LayoutView",
            "align_content": null,
            "align_items": null,
            "align_self": null,
            "border": null,
            "bottom": null,
            "display": null,
            "flex": null,
            "flex_flow": null,
            "grid_area": null,
            "grid_auto_columns": null,
            "grid_auto_flow": null,
            "grid_auto_rows": null,
            "grid_column": null,
            "grid_gap": null,
            "grid_row": null,
            "grid_template_areas": null,
            "grid_template_columns": null,
            "grid_template_rows": null,
            "height": null,
            "justify_content": null,
            "justify_items": null,
            "left": null,
            "margin": null,
            "max_height": null,
            "max_width": null,
            "min_height": null,
            "min_width": null,
            "object_fit": null,
            "object_position": null,
            "order": null,
            "overflow": null,
            "overflow_x": null,
            "overflow_y": null,
            "padding": null,
            "right": null,
            "top": null,
            "visibility": null,
            "width": null
          }
        },
        "ff437bab52374dcf850195dbbeb9383f": {
          "model_module": "@jupyter-widgets/base",
          "model_name": "LayoutModel",
          "model_module_version": "1.2.0",
          "state": {
            "_model_module": "@jupyter-widgets/base",
            "_model_module_version": "1.2.0",
            "_model_name": "LayoutModel",
            "_view_count": null,
            "_view_module": "@jupyter-widgets/base",
            "_view_module_version": "1.2.0",
            "_view_name": "LayoutView",
            "align_content": null,
            "align_items": null,
            "align_self": null,
            "border": null,
            "bottom": null,
            "display": null,
            "flex": null,
            "flex_flow": null,
            "grid_area": null,
            "grid_auto_columns": null,
            "grid_auto_flow": null,
            "grid_auto_rows": null,
            "grid_column": null,
            "grid_gap": null,
            "grid_row": null,
            "grid_template_areas": null,
            "grid_template_columns": null,
            "grid_template_rows": null,
            "height": null,
            "justify_content": null,
            "justify_items": null,
            "left": null,
            "margin": null,
            "max_height": null,
            "max_width": null,
            "min_height": null,
            "min_width": null,
            "object_fit": null,
            "object_position": null,
            "order": null,
            "overflow": null,
            "overflow_x": null,
            "overflow_y": null,
            "padding": null,
            "right": null,
            "top": null,
            "visibility": null,
            "width": null
          }
        },
        "2e0264e1267f41738ffc50bcfa3c5f47": {
          "model_module": "@jupyter-widgets/controls",
          "model_name": "DescriptionStyleModel",
          "model_module_version": "1.5.0",
          "state": {
            "_model_module": "@jupyter-widgets/controls",
            "_model_module_version": "1.5.0",
            "_model_name": "DescriptionStyleModel",
            "_view_count": null,
            "_view_module": "@jupyter-widgets/base",
            "_view_module_version": "1.2.0",
            "_view_name": "StyleView",
            "description_width": ""
          }
        },
        "c9cb82438d56498ebf2181f92d2f3efd": {
          "model_module": "@jupyter-widgets/base",
          "model_name": "LayoutModel",
          "model_module_version": "1.2.0",
          "state": {
            "_model_module": "@jupyter-widgets/base",
            "_model_module_version": "1.2.0",
            "_model_name": "LayoutModel",
            "_view_count": null,
            "_view_module": "@jupyter-widgets/base",
            "_view_module_version": "1.2.0",
            "_view_name": "LayoutView",
            "align_content": null,
            "align_items": null,
            "align_self": null,
            "border": null,
            "bottom": null,
            "display": null,
            "flex": null,
            "flex_flow": null,
            "grid_area": null,
            "grid_auto_columns": null,
            "grid_auto_flow": null,
            "grid_auto_rows": null,
            "grid_column": null,
            "grid_gap": null,
            "grid_row": null,
            "grid_template_areas": null,
            "grid_template_columns": null,
            "grid_template_rows": null,
            "height": null,
            "justify_content": null,
            "justify_items": null,
            "left": null,
            "margin": null,
            "max_height": null,
            "max_width": null,
            "min_height": null,
            "min_width": null,
            "object_fit": null,
            "object_position": null,
            "order": null,
            "overflow": null,
            "overflow_x": null,
            "overflow_y": null,
            "padding": null,
            "right": null,
            "top": null,
            "visibility": null,
            "width": null
          }
        },
        "20fbbd297543461f9fafadc5a53154d2": {
          "model_module": "@jupyter-widgets/controls",
          "model_name": "ProgressStyleModel",
          "model_module_version": "1.5.0",
          "state": {
            "_model_module": "@jupyter-widgets/controls",
            "_model_module_version": "1.5.0",
            "_model_name": "ProgressStyleModel",
            "_view_count": null,
            "_view_module": "@jupyter-widgets/base",
            "_view_module_version": "1.2.0",
            "_view_name": "StyleView",
            "bar_color": null,
            "description_width": ""
          }
        },
        "1139d6576a934666b8aee3a706c17b83": {
          "model_module": "@jupyter-widgets/base",
          "model_name": "LayoutModel",
          "model_module_version": "1.2.0",
          "state": {
            "_model_module": "@jupyter-widgets/base",
            "_model_module_version": "1.2.0",
            "_model_name": "LayoutModel",
            "_view_count": null,
            "_view_module": "@jupyter-widgets/base",
            "_view_module_version": "1.2.0",
            "_view_name": "LayoutView",
            "align_content": null,
            "align_items": null,
            "align_self": null,
            "border": null,
            "bottom": null,
            "display": null,
            "flex": null,
            "flex_flow": null,
            "grid_area": null,
            "grid_auto_columns": null,
            "grid_auto_flow": null,
            "grid_auto_rows": null,
            "grid_column": null,
            "grid_gap": null,
            "grid_row": null,
            "grid_template_areas": null,
            "grid_template_columns": null,
            "grid_template_rows": null,
            "height": null,
            "justify_content": null,
            "justify_items": null,
            "left": null,
            "margin": null,
            "max_height": null,
            "max_width": null,
            "min_height": null,
            "min_width": null,
            "object_fit": null,
            "object_position": null,
            "order": null,
            "overflow": null,
            "overflow_x": null,
            "overflow_y": null,
            "padding": null,
            "right": null,
            "top": null,
            "visibility": null,
            "width": null
          }
        },
        "93ba44babb224acaa52c5174bc44764c": {
          "model_module": "@jupyter-widgets/controls",
          "model_name": "DescriptionStyleModel",
          "model_module_version": "1.5.0",
          "state": {
            "_model_module": "@jupyter-widgets/controls",
            "_model_module_version": "1.5.0",
            "_model_name": "DescriptionStyleModel",
            "_view_count": null,
            "_view_module": "@jupyter-widgets/base",
            "_view_module_version": "1.2.0",
            "_view_name": "StyleView",
            "description_width": ""
          }
        },
        "bbba088e2cd44ac88d9fc3975fe84468": {
          "model_module": "@jupyter-widgets/controls",
          "model_name": "HBoxModel",
          "model_module_version": "1.5.0",
          "state": {
            "_dom_classes": [],
            "_model_module": "@jupyter-widgets/controls",
            "_model_module_version": "1.5.0",
            "_model_name": "HBoxModel",
            "_view_count": null,
            "_view_module": "@jupyter-widgets/controls",
            "_view_module_version": "1.5.0",
            "_view_name": "HBoxView",
            "box_style": "",
            "children": [
              "IPY_MODEL_64560006f4a5411f98bf8a88fe40f8bd",
              "IPY_MODEL_599f628b326c48dbb1422af3fbeed102",
              "IPY_MODEL_f1b6b8155ee8497193407c9d5b9c7a53"
            ],
            "layout": "IPY_MODEL_8744e0736f2c4c7586706b7d236d9973"
          }
        },
        "64560006f4a5411f98bf8a88fe40f8bd": {
          "model_module": "@jupyter-widgets/controls",
          "model_name": "HTMLModel",
          "model_module_version": "1.5.0",
          "state": {
            "_dom_classes": [],
            "_model_module": "@jupyter-widgets/controls",
            "_model_module_version": "1.5.0",
            "_model_name": "HTMLModel",
            "_view_count": null,
            "_view_module": "@jupyter-widgets/controls",
            "_view_module_version": "1.5.0",
            "_view_name": "HTMLView",
            "description": "",
            "description_tooltip": null,
            "layout": "IPY_MODEL_07e4ade21eb346319afb152ed7788c5b",
            "placeholder": "​",
            "style": "IPY_MODEL_98070610d6eb43df9d7f38e2fc71b648",
            "value": "100%"
          }
        },
        "599f628b326c48dbb1422af3fbeed102": {
          "model_module": "@jupyter-widgets/controls",
          "model_name": "FloatProgressModel",
          "model_module_version": "1.5.0",
          "state": {
            "_dom_classes": [],
            "_model_module": "@jupyter-widgets/controls",
            "_model_module_version": "1.5.0",
            "_model_name": "FloatProgressModel",
            "_view_count": null,
            "_view_module": "@jupyter-widgets/controls",
            "_view_module_version": "1.5.0",
            "_view_name": "ProgressView",
            "bar_style": "success",
            "description": "",
            "description_tooltip": null,
            "layout": "IPY_MODEL_0af2aa0859e44442ac933a06597dd9fb",
            "max": 29515,
            "min": 0,
            "orientation": "horizontal",
            "style": "IPY_MODEL_4f021a0908de44d0bcbd6a83465f9f0d",
            "value": 29515
          }
        },
        "f1b6b8155ee8497193407c9d5b9c7a53": {
          "model_module": "@jupyter-widgets/controls",
          "model_name": "HTMLModel",
          "model_module_version": "1.5.0",
          "state": {
            "_dom_classes": [],
            "_model_module": "@jupyter-widgets/controls",
            "_model_module_version": "1.5.0",
            "_model_name": "HTMLModel",
            "_view_count": null,
            "_view_module": "@jupyter-widgets/controls",
            "_view_module_version": "1.5.0",
            "_view_name": "HTMLView",
            "description": "",
            "description_tooltip": null,
            "layout": "IPY_MODEL_25dc4bdcfa3346928370b131c2c17898",
            "placeholder": "​",
            "style": "IPY_MODEL_f2ec0aaeb30e4b96a66ad73221eda810",
            "value": " 29515/29515 [00:00&lt;00:00, 147849.92it/s]"
          }
        },
        "8744e0736f2c4c7586706b7d236d9973": {
          "model_module": "@jupyter-widgets/base",
          "model_name": "LayoutModel",
          "model_module_version": "1.2.0",
          "state": {
            "_model_module": "@jupyter-widgets/base",
            "_model_module_version": "1.2.0",
            "_model_name": "LayoutModel",
            "_view_count": null,
            "_view_module": "@jupyter-widgets/base",
            "_view_module_version": "1.2.0",
            "_view_name": "LayoutView",
            "align_content": null,
            "align_items": null,
            "align_self": null,
            "border": null,
            "bottom": null,
            "display": null,
            "flex": null,
            "flex_flow": null,
            "grid_area": null,
            "grid_auto_columns": null,
            "grid_auto_flow": null,
            "grid_auto_rows": null,
            "grid_column": null,
            "grid_gap": null,
            "grid_row": null,
            "grid_template_areas": null,
            "grid_template_columns": null,
            "grid_template_rows": null,
            "height": null,
            "justify_content": null,
            "justify_items": null,
            "left": null,
            "margin": null,
            "max_height": null,
            "max_width": null,
            "min_height": null,
            "min_width": null,
            "object_fit": null,
            "object_position": null,
            "order": null,
            "overflow": null,
            "overflow_x": null,
            "overflow_y": null,
            "padding": null,
            "right": null,
            "top": null,
            "visibility": null,
            "width": null
          }
        },
        "07e4ade21eb346319afb152ed7788c5b": {
          "model_module": "@jupyter-widgets/base",
          "model_name": "LayoutModel",
          "model_module_version": "1.2.0",
          "state": {
            "_model_module": "@jupyter-widgets/base",
            "_model_module_version": "1.2.0",
            "_model_name": "LayoutModel",
            "_view_count": null,
            "_view_module": "@jupyter-widgets/base",
            "_view_module_version": "1.2.0",
            "_view_name": "LayoutView",
            "align_content": null,
            "align_items": null,
            "align_self": null,
            "border": null,
            "bottom": null,
            "display": null,
            "flex": null,
            "flex_flow": null,
            "grid_area": null,
            "grid_auto_columns": null,
            "grid_auto_flow": null,
            "grid_auto_rows": null,
            "grid_column": null,
            "grid_gap": null,
            "grid_row": null,
            "grid_template_areas": null,
            "grid_template_columns": null,
            "grid_template_rows": null,
            "height": null,
            "justify_content": null,
            "justify_items": null,
            "left": null,
            "margin": null,
            "max_height": null,
            "max_width": null,
            "min_height": null,
            "min_width": null,
            "object_fit": null,
            "object_position": null,
            "order": null,
            "overflow": null,
            "overflow_x": null,
            "overflow_y": null,
            "padding": null,
            "right": null,
            "top": null,
            "visibility": null,
            "width": null
          }
        },
        "98070610d6eb43df9d7f38e2fc71b648": {
          "model_module": "@jupyter-widgets/controls",
          "model_name": "DescriptionStyleModel",
          "model_module_version": "1.5.0",
          "state": {
            "_model_module": "@jupyter-widgets/controls",
            "_model_module_version": "1.5.0",
            "_model_name": "DescriptionStyleModel",
            "_view_count": null,
            "_view_module": "@jupyter-widgets/base",
            "_view_module_version": "1.2.0",
            "_view_name": "StyleView",
            "description_width": ""
          }
        },
        "0af2aa0859e44442ac933a06597dd9fb": {
          "model_module": "@jupyter-widgets/base",
          "model_name": "LayoutModel",
          "model_module_version": "1.2.0",
          "state": {
            "_model_module": "@jupyter-widgets/base",
            "_model_module_version": "1.2.0",
            "_model_name": "LayoutModel",
            "_view_count": null,
            "_view_module": "@jupyter-widgets/base",
            "_view_module_version": "1.2.0",
            "_view_name": "LayoutView",
            "align_content": null,
            "align_items": null,
            "align_self": null,
            "border": null,
            "bottom": null,
            "display": null,
            "flex": null,
            "flex_flow": null,
            "grid_area": null,
            "grid_auto_columns": null,
            "grid_auto_flow": null,
            "grid_auto_rows": null,
            "grid_column": null,
            "grid_gap": null,
            "grid_row": null,
            "grid_template_areas": null,
            "grid_template_columns": null,
            "grid_template_rows": null,
            "height": null,
            "justify_content": null,
            "justify_items": null,
            "left": null,
            "margin": null,
            "max_height": null,
            "max_width": null,
            "min_height": null,
            "min_width": null,
            "object_fit": null,
            "object_position": null,
            "order": null,
            "overflow": null,
            "overflow_x": null,
            "overflow_y": null,
            "padding": null,
            "right": null,
            "top": null,
            "visibility": null,
            "width": null
          }
        },
        "4f021a0908de44d0bcbd6a83465f9f0d": {
          "model_module": "@jupyter-widgets/controls",
          "model_name": "ProgressStyleModel",
          "model_module_version": "1.5.0",
          "state": {
            "_model_module": "@jupyter-widgets/controls",
            "_model_module_version": "1.5.0",
            "_model_name": "ProgressStyleModel",
            "_view_count": null,
            "_view_module": "@jupyter-widgets/base",
            "_view_module_version": "1.2.0",
            "_view_name": "StyleView",
            "bar_color": null,
            "description_width": ""
          }
        },
        "25dc4bdcfa3346928370b131c2c17898": {
          "model_module": "@jupyter-widgets/base",
          "model_name": "LayoutModel",
          "model_module_version": "1.2.0",
          "state": {
            "_model_module": "@jupyter-widgets/base",
            "_model_module_version": "1.2.0",
            "_model_name": "LayoutModel",
            "_view_count": null,
            "_view_module": "@jupyter-widgets/base",
            "_view_module_version": "1.2.0",
            "_view_name": "LayoutView",
            "align_content": null,
            "align_items": null,
            "align_self": null,
            "border": null,
            "bottom": null,
            "display": null,
            "flex": null,
            "flex_flow": null,
            "grid_area": null,
            "grid_auto_columns": null,
            "grid_auto_flow": null,
            "grid_auto_rows": null,
            "grid_column": null,
            "grid_gap": null,
            "grid_row": null,
            "grid_template_areas": null,
            "grid_template_columns": null,
            "grid_template_rows": null,
            "height": null,
            "justify_content": null,
            "justify_items": null,
            "left": null,
            "margin": null,
            "max_height": null,
            "max_width": null,
            "min_height": null,
            "min_width": null,
            "object_fit": null,
            "object_position": null,
            "order": null,
            "overflow": null,
            "overflow_x": null,
            "overflow_y": null,
            "padding": null,
            "right": null,
            "top": null,
            "visibility": null,
            "width": null
          }
        },
        "f2ec0aaeb30e4b96a66ad73221eda810": {
          "model_module": "@jupyter-widgets/controls",
          "model_name": "DescriptionStyleModel",
          "model_module_version": "1.5.0",
          "state": {
            "_model_module": "@jupyter-widgets/controls",
            "_model_module_version": "1.5.0",
            "_model_name": "DescriptionStyleModel",
            "_view_count": null,
            "_view_module": "@jupyter-widgets/base",
            "_view_module_version": "1.2.0",
            "_view_name": "StyleView",
            "description_width": ""
          }
        },
        "ff7e2d5ee47d476b879fc8e9d5a225fc": {
          "model_module": "@jupyter-widgets/controls",
          "model_name": "HBoxModel",
          "model_module_version": "1.5.0",
          "state": {
            "_dom_classes": [],
            "_model_module": "@jupyter-widgets/controls",
            "_model_module_version": "1.5.0",
            "_model_name": "HBoxModel",
            "_view_count": null,
            "_view_module": "@jupyter-widgets/controls",
            "_view_module_version": "1.5.0",
            "_view_name": "HBoxView",
            "box_style": "",
            "children": [
              "IPY_MODEL_5d7992bdf47f45b6b033d43df9e47c73",
              "IPY_MODEL_081d48d8615e4ece9a8b72edb4bd9471",
              "IPY_MODEL_d84e6a16d6e54af99ee111d56a50a263"
            ],
            "layout": "IPY_MODEL_c02eb27b78c94ccdbf17882438f99fb4"
          }
        },
        "5d7992bdf47f45b6b033d43df9e47c73": {
          "model_module": "@jupyter-widgets/controls",
          "model_name": "HTMLModel",
          "model_module_version": "1.5.0",
          "state": {
            "_dom_classes": [],
            "_model_module": "@jupyter-widgets/controls",
            "_model_module_version": "1.5.0",
            "_model_name": "HTMLModel",
            "_view_count": null,
            "_view_module": "@jupyter-widgets/controls",
            "_view_module_version": "1.5.0",
            "_view_name": "HTMLView",
            "description": "",
            "description_tooltip": null,
            "layout": "IPY_MODEL_7830229376ef4d3093fc185605878498",
            "placeholder": "​",
            "style": "IPY_MODEL_6732f830d87f4107b2b410bfafb816d9",
            "value": "100%"
          }
        },
        "081d48d8615e4ece9a8b72edb4bd9471": {
          "model_module": "@jupyter-widgets/controls",
          "model_name": "FloatProgressModel",
          "model_module_version": "1.5.0",
          "state": {
            "_dom_classes": [],
            "_model_module": "@jupyter-widgets/controls",
            "_model_module_version": "1.5.0",
            "_model_name": "FloatProgressModel",
            "_view_count": null,
            "_view_module": "@jupyter-widgets/controls",
            "_view_module_version": "1.5.0",
            "_view_name": "ProgressView",
            "bar_style": "success",
            "description": "",
            "description_tooltip": null,
            "layout": "IPY_MODEL_7a9d622fea494d56a9613007adcfaeb4",
            "max": 4422102,
            "min": 0,
            "orientation": "horizontal",
            "style": "IPY_MODEL_fced15c2c9244f09827d71c53c44d279",
            "value": 4422102
          }
        },
        "d84e6a16d6e54af99ee111d56a50a263": {
          "model_module": "@jupyter-widgets/controls",
          "model_name": "HTMLModel",
          "model_module_version": "1.5.0",
          "state": {
            "_dom_classes": [],
            "_model_module": "@jupyter-widgets/controls",
            "_model_module_version": "1.5.0",
            "_model_name": "HTMLModel",
            "_view_count": null,
            "_view_module": "@jupyter-widgets/controls",
            "_view_module_version": "1.5.0",
            "_view_name": "HTMLView",
            "description": "",
            "description_tooltip": null,
            "layout": "IPY_MODEL_2747e8fc02e6476d8d4de8bc24e70bfa",
            "placeholder": "​",
            "style": "IPY_MODEL_e9eeaeadf6814b69b6ff47e5593341f9",
            "value": " 4422102/4422102 [00:01&lt;00:00, 4851488.53it/s]"
          }
        },
        "c02eb27b78c94ccdbf17882438f99fb4": {
          "model_module": "@jupyter-widgets/base",
          "model_name": "LayoutModel",
          "model_module_version": "1.2.0",
          "state": {
            "_model_module": "@jupyter-widgets/base",
            "_model_module_version": "1.2.0",
            "_model_name": "LayoutModel",
            "_view_count": null,
            "_view_module": "@jupyter-widgets/base",
            "_view_module_version": "1.2.0",
            "_view_name": "LayoutView",
            "align_content": null,
            "align_items": null,
            "align_self": null,
            "border": null,
            "bottom": null,
            "display": null,
            "flex": null,
            "flex_flow": null,
            "grid_area": null,
            "grid_auto_columns": null,
            "grid_auto_flow": null,
            "grid_auto_rows": null,
            "grid_column": null,
            "grid_gap": null,
            "grid_row": null,
            "grid_template_areas": null,
            "grid_template_columns": null,
            "grid_template_rows": null,
            "height": null,
            "justify_content": null,
            "justify_items": null,
            "left": null,
            "margin": null,
            "max_height": null,
            "max_width": null,
            "min_height": null,
            "min_width": null,
            "object_fit": null,
            "object_position": null,
            "order": null,
            "overflow": null,
            "overflow_x": null,
            "overflow_y": null,
            "padding": null,
            "right": null,
            "top": null,
            "visibility": null,
            "width": null
          }
        },
        "7830229376ef4d3093fc185605878498": {
          "model_module": "@jupyter-widgets/base",
          "model_name": "LayoutModel",
          "model_module_version": "1.2.0",
          "state": {
            "_model_module": "@jupyter-widgets/base",
            "_model_module_version": "1.2.0",
            "_model_name": "LayoutModel",
            "_view_count": null,
            "_view_module": "@jupyter-widgets/base",
            "_view_module_version": "1.2.0",
            "_view_name": "LayoutView",
            "align_content": null,
            "align_items": null,
            "align_self": null,
            "border": null,
            "bottom": null,
            "display": null,
            "flex": null,
            "flex_flow": null,
            "grid_area": null,
            "grid_auto_columns": null,
            "grid_auto_flow": null,
            "grid_auto_rows": null,
            "grid_column": null,
            "grid_gap": null,
            "grid_row": null,
            "grid_template_areas": null,
            "grid_template_columns": null,
            "grid_template_rows": null,
            "height": null,
            "justify_content": null,
            "justify_items": null,
            "left": null,
            "margin": null,
            "max_height": null,
            "max_width": null,
            "min_height": null,
            "min_width": null,
            "object_fit": null,
            "object_position": null,
            "order": null,
            "overflow": null,
            "overflow_x": null,
            "overflow_y": null,
            "padding": null,
            "right": null,
            "top": null,
            "visibility": null,
            "width": null
          }
        },
        "6732f830d87f4107b2b410bfafb816d9": {
          "model_module": "@jupyter-widgets/controls",
          "model_name": "DescriptionStyleModel",
          "model_module_version": "1.5.0",
          "state": {
            "_model_module": "@jupyter-widgets/controls",
            "_model_module_version": "1.5.0",
            "_model_name": "DescriptionStyleModel",
            "_view_count": null,
            "_view_module": "@jupyter-widgets/base",
            "_view_module_version": "1.2.0",
            "_view_name": "StyleView",
            "description_width": ""
          }
        },
        "7a9d622fea494d56a9613007adcfaeb4": {
          "model_module": "@jupyter-widgets/base",
          "model_name": "LayoutModel",
          "model_module_version": "1.2.0",
          "state": {
            "_model_module": "@jupyter-widgets/base",
            "_model_module_version": "1.2.0",
            "_model_name": "LayoutModel",
            "_view_count": null,
            "_view_module": "@jupyter-widgets/base",
            "_view_module_version": "1.2.0",
            "_view_name": "LayoutView",
            "align_content": null,
            "align_items": null,
            "align_self": null,
            "border": null,
            "bottom": null,
            "display": null,
            "flex": null,
            "flex_flow": null,
            "grid_area": null,
            "grid_auto_columns": null,
            "grid_auto_flow": null,
            "grid_auto_rows": null,
            "grid_column": null,
            "grid_gap": null,
            "grid_row": null,
            "grid_template_areas": null,
            "grid_template_columns": null,
            "grid_template_rows": null,
            "height": null,
            "justify_content": null,
            "justify_items": null,
            "left": null,
            "margin": null,
            "max_height": null,
            "max_width": null,
            "min_height": null,
            "min_width": null,
            "object_fit": null,
            "object_position": null,
            "order": null,
            "overflow": null,
            "overflow_x": null,
            "overflow_y": null,
            "padding": null,
            "right": null,
            "top": null,
            "visibility": null,
            "width": null
          }
        },
        "fced15c2c9244f09827d71c53c44d279": {
          "model_module": "@jupyter-widgets/controls",
          "model_name": "ProgressStyleModel",
          "model_module_version": "1.5.0",
          "state": {
            "_model_module": "@jupyter-widgets/controls",
            "_model_module_version": "1.5.0",
            "_model_name": "ProgressStyleModel",
            "_view_count": null,
            "_view_module": "@jupyter-widgets/base",
            "_view_module_version": "1.2.0",
            "_view_name": "StyleView",
            "bar_color": null,
            "description_width": ""
          }
        },
        "2747e8fc02e6476d8d4de8bc24e70bfa": {
          "model_module": "@jupyter-widgets/base",
          "model_name": "LayoutModel",
          "model_module_version": "1.2.0",
          "state": {
            "_model_module": "@jupyter-widgets/base",
            "_model_module_version": "1.2.0",
            "_model_name": "LayoutModel",
            "_view_count": null,
            "_view_module": "@jupyter-widgets/base",
            "_view_module_version": "1.2.0",
            "_view_name": "LayoutView",
            "align_content": null,
            "align_items": null,
            "align_self": null,
            "border": null,
            "bottom": null,
            "display": null,
            "flex": null,
            "flex_flow": null,
            "grid_area": null,
            "grid_auto_columns": null,
            "grid_auto_flow": null,
            "grid_auto_rows": null,
            "grid_column": null,
            "grid_gap": null,
            "grid_row": null,
            "grid_template_areas": null,
            "grid_template_columns": null,
            "grid_template_rows": null,
            "height": null,
            "justify_content": null,
            "justify_items": null,
            "left": null,
            "margin": null,
            "max_height": null,
            "max_width": null,
            "min_height": null,
            "min_width": null,
            "object_fit": null,
            "object_position": null,
            "order": null,
            "overflow": null,
            "overflow_x": null,
            "overflow_y": null,
            "padding": null,
            "right": null,
            "top": null,
            "visibility": null,
            "width": null
          }
        },
        "e9eeaeadf6814b69b6ff47e5593341f9": {
          "model_module": "@jupyter-widgets/controls",
          "model_name": "DescriptionStyleModel",
          "model_module_version": "1.5.0",
          "state": {
            "_model_module": "@jupyter-widgets/controls",
            "_model_module_version": "1.5.0",
            "_model_name": "DescriptionStyleModel",
            "_view_count": null,
            "_view_module": "@jupyter-widgets/base",
            "_view_module_version": "1.2.0",
            "_view_name": "StyleView",
            "description_width": ""
          }
        },
        "e02a4203bd0046dc88f8ac095823b869": {
          "model_module": "@jupyter-widgets/controls",
          "model_name": "HBoxModel",
          "model_module_version": "1.5.0",
          "state": {
            "_dom_classes": [],
            "_model_module": "@jupyter-widgets/controls",
            "_model_module_version": "1.5.0",
            "_model_name": "HBoxModel",
            "_view_count": null,
            "_view_module": "@jupyter-widgets/controls",
            "_view_module_version": "1.5.0",
            "_view_name": "HBoxView",
            "box_style": "",
            "children": [
              "IPY_MODEL_db57e7e77369499eb02bd196633d44d0",
              "IPY_MODEL_65bde987a4854afeb7b47e4124323b59",
              "IPY_MODEL_ecb20e7028f3484aacaa6b4104fa2908"
            ],
            "layout": "IPY_MODEL_e0d072840ea441ef8593378e62df87c8"
          }
        },
        "db57e7e77369499eb02bd196633d44d0": {
          "model_module": "@jupyter-widgets/controls",
          "model_name": "HTMLModel",
          "model_module_version": "1.5.0",
          "state": {
            "_dom_classes": [],
            "_model_module": "@jupyter-widgets/controls",
            "_model_module_version": "1.5.0",
            "_model_name": "HTMLModel",
            "_view_count": null,
            "_view_module": "@jupyter-widgets/controls",
            "_view_module_version": "1.5.0",
            "_view_name": "HTMLView",
            "description": "",
            "description_tooltip": null,
            "layout": "IPY_MODEL_9a50d81dd4e8429088e7fddb019fab06",
            "placeholder": "​",
            "style": "IPY_MODEL_fcbcc34d7e9c4c399b94c6eee6023815",
            "value": "100%"
          }
        },
        "65bde987a4854afeb7b47e4124323b59": {
          "model_module": "@jupyter-widgets/controls",
          "model_name": "FloatProgressModel",
          "model_module_version": "1.5.0",
          "state": {
            "_dom_classes": [],
            "_model_module": "@jupyter-widgets/controls",
            "_model_module_version": "1.5.0",
            "_model_name": "FloatProgressModel",
            "_view_count": null,
            "_view_module": "@jupyter-widgets/controls",
            "_view_module_version": "1.5.0",
            "_view_name": "ProgressView",
            "bar_style": "success",
            "description": "",
            "description_tooltip": null,
            "layout": "IPY_MODEL_a88d80ba263f43b8a6c19c56348d9c39",
            "max": 5148,
            "min": 0,
            "orientation": "horizontal",
            "style": "IPY_MODEL_7294782a05364229a45192ee8663b583",
            "value": 5148
          }
        },
        "ecb20e7028f3484aacaa6b4104fa2908": {
          "model_module": "@jupyter-widgets/controls",
          "model_name": "HTMLModel",
          "model_module_version": "1.5.0",
          "state": {
            "_dom_classes": [],
            "_model_module": "@jupyter-widgets/controls",
            "_model_module_version": "1.5.0",
            "_model_name": "HTMLModel",
            "_view_count": null,
            "_view_module": "@jupyter-widgets/controls",
            "_view_module_version": "1.5.0",
            "_view_name": "HTMLView",
            "description": "",
            "description_tooltip": null,
            "layout": "IPY_MODEL_dfcbea64321c4d99a75f8fcd0957d06a",
            "placeholder": "​",
            "style": "IPY_MODEL_fd4c9527f2f540fcaaca28446176d3f5",
            "value": " 5148/5148 [00:00&lt;00:00, 68044.68it/s]"
          }
        },
        "e0d072840ea441ef8593378e62df87c8": {
          "model_module": "@jupyter-widgets/base",
          "model_name": "LayoutModel",
          "model_module_version": "1.2.0",
          "state": {
            "_model_module": "@jupyter-widgets/base",
            "_model_module_version": "1.2.0",
            "_model_name": "LayoutModel",
            "_view_count": null,
            "_view_module": "@jupyter-widgets/base",
            "_view_module_version": "1.2.0",
            "_view_name": "LayoutView",
            "align_content": null,
            "align_items": null,
            "align_self": null,
            "border": null,
            "bottom": null,
            "display": null,
            "flex": null,
            "flex_flow": null,
            "grid_area": null,
            "grid_auto_columns": null,
            "grid_auto_flow": null,
            "grid_auto_rows": null,
            "grid_column": null,
            "grid_gap": null,
            "grid_row": null,
            "grid_template_areas": null,
            "grid_template_columns": null,
            "grid_template_rows": null,
            "height": null,
            "justify_content": null,
            "justify_items": null,
            "left": null,
            "margin": null,
            "max_height": null,
            "max_width": null,
            "min_height": null,
            "min_width": null,
            "object_fit": null,
            "object_position": null,
            "order": null,
            "overflow": null,
            "overflow_x": null,
            "overflow_y": null,
            "padding": null,
            "right": null,
            "top": null,
            "visibility": null,
            "width": null
          }
        },
        "9a50d81dd4e8429088e7fddb019fab06": {
          "model_module": "@jupyter-widgets/base",
          "model_name": "LayoutModel",
          "model_module_version": "1.2.0",
          "state": {
            "_model_module": "@jupyter-widgets/base",
            "_model_module_version": "1.2.0",
            "_model_name": "LayoutModel",
            "_view_count": null,
            "_view_module": "@jupyter-widgets/base",
            "_view_module_version": "1.2.0",
            "_view_name": "LayoutView",
            "align_content": null,
            "align_items": null,
            "align_self": null,
            "border": null,
            "bottom": null,
            "display": null,
            "flex": null,
            "flex_flow": null,
            "grid_area": null,
            "grid_auto_columns": null,
            "grid_auto_flow": null,
            "grid_auto_rows": null,
            "grid_column": null,
            "grid_gap": null,
            "grid_row": null,
            "grid_template_areas": null,
            "grid_template_columns": null,
            "grid_template_rows": null,
            "height": null,
            "justify_content": null,
            "justify_items": null,
            "left": null,
            "margin": null,
            "max_height": null,
            "max_width": null,
            "min_height": null,
            "min_width": null,
            "object_fit": null,
            "object_position": null,
            "order": null,
            "overflow": null,
            "overflow_x": null,
            "overflow_y": null,
            "padding": null,
            "right": null,
            "top": null,
            "visibility": null,
            "width": null
          }
        },
        "fcbcc34d7e9c4c399b94c6eee6023815": {
          "model_module": "@jupyter-widgets/controls",
          "model_name": "DescriptionStyleModel",
          "model_module_version": "1.5.0",
          "state": {
            "_model_module": "@jupyter-widgets/controls",
            "_model_module_version": "1.5.0",
            "_model_name": "DescriptionStyleModel",
            "_view_count": null,
            "_view_module": "@jupyter-widgets/base",
            "_view_module_version": "1.2.0",
            "_view_name": "StyleView",
            "description_width": ""
          }
        },
        "a88d80ba263f43b8a6c19c56348d9c39": {
          "model_module": "@jupyter-widgets/base",
          "model_name": "LayoutModel",
          "model_module_version": "1.2.0",
          "state": {
            "_model_module": "@jupyter-widgets/base",
            "_model_module_version": "1.2.0",
            "_model_name": "LayoutModel",
            "_view_count": null,
            "_view_module": "@jupyter-widgets/base",
            "_view_module_version": "1.2.0",
            "_view_name": "LayoutView",
            "align_content": null,
            "align_items": null,
            "align_self": null,
            "border": null,
            "bottom": null,
            "display": null,
            "flex": null,
            "flex_flow": null,
            "grid_area": null,
            "grid_auto_columns": null,
            "grid_auto_flow": null,
            "grid_auto_rows": null,
            "grid_column": null,
            "grid_gap": null,
            "grid_row": null,
            "grid_template_areas": null,
            "grid_template_columns": null,
            "grid_template_rows": null,
            "height": null,
            "justify_content": null,
            "justify_items": null,
            "left": null,
            "margin": null,
            "max_height": null,
            "max_width": null,
            "min_height": null,
            "min_width": null,
            "object_fit": null,
            "object_position": null,
            "order": null,
            "overflow": null,
            "overflow_x": null,
            "overflow_y": null,
            "padding": null,
            "right": null,
            "top": null,
            "visibility": null,
            "width": null
          }
        },
        "7294782a05364229a45192ee8663b583": {
          "model_module": "@jupyter-widgets/controls",
          "model_name": "ProgressStyleModel",
          "model_module_version": "1.5.0",
          "state": {
            "_model_module": "@jupyter-widgets/controls",
            "_model_module_version": "1.5.0",
            "_model_name": "ProgressStyleModel",
            "_view_count": null,
            "_view_module": "@jupyter-widgets/base",
            "_view_module_version": "1.2.0",
            "_view_name": "StyleView",
            "bar_color": null,
            "description_width": ""
          }
        },
        "dfcbea64321c4d99a75f8fcd0957d06a": {
          "model_module": "@jupyter-widgets/base",
          "model_name": "LayoutModel",
          "model_module_version": "1.2.0",
          "state": {
            "_model_module": "@jupyter-widgets/base",
            "_model_module_version": "1.2.0",
            "_model_name": "LayoutModel",
            "_view_count": null,
            "_view_module": "@jupyter-widgets/base",
            "_view_module_version": "1.2.0",
            "_view_name": "LayoutView",
            "align_content": null,
            "align_items": null,
            "align_self": null,
            "border": null,
            "bottom": null,
            "display": null,
            "flex": null,
            "flex_flow": null,
            "grid_area": null,
            "grid_auto_columns": null,
            "grid_auto_flow": null,
            "grid_auto_rows": null,
            "grid_column": null,
            "grid_gap": null,
            "grid_row": null,
            "grid_template_areas": null,
            "grid_template_columns": null,
            "grid_template_rows": null,
            "height": null,
            "justify_content": null,
            "justify_items": null,
            "left": null,
            "margin": null,
            "max_height": null,
            "max_width": null,
            "min_height": null,
            "min_width": null,
            "object_fit": null,
            "object_position": null,
            "order": null,
            "overflow": null,
            "overflow_x": null,
            "overflow_y": null,
            "padding": null,
            "right": null,
            "top": null,
            "visibility": null,
            "width": null
          }
        },
        "fd4c9527f2f540fcaaca28446176d3f5": {
          "model_module": "@jupyter-widgets/controls",
          "model_name": "DescriptionStyleModel",
          "model_module_version": "1.5.0",
          "state": {
            "_model_module": "@jupyter-widgets/controls",
            "_model_module_version": "1.5.0",
            "_model_name": "DescriptionStyleModel",
            "_view_count": null,
            "_view_module": "@jupyter-widgets/base",
            "_view_module_version": "1.2.0",
            "_view_name": "StyleView",
            "description_width": ""
          }
        }
      }
    }
  },
  "nbformat": 4,
  "nbformat_minor": 5
}
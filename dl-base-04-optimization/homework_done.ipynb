{
  "cells": [
    {
      "cell_type": "markdown",
      "id": "5372eb6b",
      "metadata": {
        "id": "5372eb6b"
      },
      "source": [
        "# Домашняя работа по регуляризации и оптимизации\n",
        "\n",
        "Ниже приводится код модели и функции обучения. Далее предлагается улучшить качество модели путем добавления регуляризаций и настройки оптимизатора.\n",
        "\n",
        "Оценка будет выставляться по итоговому качеству на тестовом корпусе:\n",
        "\n",
        "- 2: < 50%\n",
        "- 3: 50-60%\n",
        "- 4: 60-75%\n",
        "- 5: > 75%"
      ]
    },
    {
      "cell_type": "code",
      "execution_count": 1,
      "id": "5MJBAWD1TbSe",
      "metadata": {
        "id": "5MJBAWD1TbSe",
        "colab": {
          "base_uri": "https://localhost:8080/"
        },
        "outputId": "6c6437b6-1adc-4b30-a9e4-1003aef7cfa0"
      },
      "outputs": [
        {
          "output_type": "stream",
          "name": "stdout",
          "text": [
            "Successfully installed lightning-utilities-0.7.1 pytorch_lightning-1.9.4 torchmetrics-0.11.3\n"
          ]
        }
      ],
      "source": [
        "### Uncomment to install libraries.\n",
        "!pip3 install pytorch_lightning torchmetrics PyYAML"
      ]
    },
    {
      "cell_type": "code",
      "execution_count": 2,
      "id": "84be44bf",
      "metadata": {
        "colab": {
          "base_uri": "https://localhost:8080/"
        },
        "id": "84be44bf",
        "outputId": "012efd02-6ac4-4a46-ed2c-7198df79b881"
      },
      "outputs": [
        {
          "output_type": "stream",
          "name": "stdout",
          "text": [
            "USE CUDA: True\n"
          ]
        }
      ],
      "source": [
        "import torch\n",
        "import pytorch_lightning as pl\n",
        "import yaml\n",
        "from pytorch_lightning import seed_everything\n",
        "from torchmetrics import Accuracy\n",
        "from torchvision.datasets import CIFAR10\n",
        "from torchvision.transforms import Compose, ToTensor, Normalize\n",
        "\n",
        "ROOT = \"hwroot\"\n",
        "ANSWER_FILE = \"submission.yaml\"\n",
        "USE_CUDA = torch.cuda.is_available()\n",
        "NUM_WORKERS = 4\n",
        "print(\"USE CUDA:\", USE_CUDA)"
      ]
    },
    {
      "cell_type": "code",
      "execution_count": 3,
      "id": "8e381337",
      "metadata": {
        "colab": {
          "base_uri": "https://localhost:8080/",
          "height": 101,
          "referenced_widgets": [
            "794d3fc5ca3f4e4ea13473a3b41448bd",
            "2ec0c332a1a940f697842cdfc1c15d60",
            "fc8bf10851df471ca55f10237e60806e",
            "5807f0261fa64905ba91e71efcd8c0e3",
            "4a897b2fa4b848daa94ddb48d1f5a741",
            "d9732600570d40798a7f9d479e491be7",
            "656896aed7184be4b9f8db295e3d668d",
            "fc45cd33044940a39896a34badbc9708",
            "07025c9048f54687b999d84264203495",
            "d6f06f2c60954cd6b0389902dcfa5417",
            "3507841f4be84f9ebfc6c288e12f547f"
          ]
        },
        "id": "8e381337",
        "outputId": "e05a2580-48bb-4506-fd9e-83cfda817183"
      },
      "outputs": [
        {
          "output_type": "stream",
          "name": "stdout",
          "text": [
            "Downloading https://www.cs.toronto.edu/~kriz/cifar-10-python.tar.gz to hwroot/cifar-10-python.tar.gz\n"
          ]
        },
        {
          "output_type": "display_data",
          "data": {
            "text/plain": [
              "  0%|          | 0/170498071 [00:00<?, ?it/s]"
            ],
            "application/vnd.jupyter.widget-view+json": {
              "version_major": 2,
              "version_minor": 0,
              "model_id": "794d3fc5ca3f4e4ea13473a3b41448bd"
            }
          },
          "metadata": {}
        },
        {
          "output_type": "stream",
          "name": "stdout",
          "text": [
            "Extracting hwroot/cifar-10-python.tar.gz to hwroot\n",
            "Files already downloaded and verified\n"
          ]
        }
      ],
      "source": [
        "transform = Compose( [ToTensor(),\n",
        "     Normalize((0.5, 0.5, 0.5), (0.5, 0.5, 0.5))])\n",
        "trainset = CIFAR10(ROOT, train=True, transform=transform, download=True)\n",
        "testset = CIFAR10(ROOT, train=False, transform=transform, download=True)"
      ]
    },
    {
      "cell_type": "code",
      "execution_count": 4,
      "id": "5ee1d047",
      "metadata": {
        "colab": {
          "base_uri": "https://localhost:8080/"
        },
        "id": "5ee1d047",
        "outputId": "b13ef0d1-1348-44f7-bcf6-9b2ef730e071"
      },
      "outputs": [
        {
          "output_type": "stream",
          "name": "stdout",
          "text": [
            "CNN(\n",
            "  (0): Sequential(\n",
            "    (0): Conv2d(3, 8, kernel_size=(3, 3), stride=(1, 1), padding=(1, 1))\n",
            "    (1): ReLU()\n",
            "  )\n",
            "  (1): Sequential(\n",
            "    (0): Conv2d(8, 8, kernel_size=(3, 3), stride=(1, 1), padding=(1, 1))\n",
            "    (1): ReLU()\n",
            "  )\n",
            "  (2): Sequential(\n",
            "    (0): Conv2d(8, 16, kernel_size=(3, 3), stride=(2, 2), padding=(1, 1))\n",
            "    (1): ReLU()\n",
            "  )\n",
            "  (3): Sequential(\n",
            "    (0): Conv2d(16, 16, kernel_size=(3, 3), stride=(1, 1), padding=(1, 1))\n",
            "    (1): ReLU()\n",
            "  )\n",
            "  (4): Sequential(\n",
            "    (0): Conv2d(16, 16, kernel_size=(3, 3), stride=(1, 1), padding=(1, 1))\n",
            "    (1): ReLU()\n",
            "  )\n",
            "  (5): Sequential(\n",
            "    (0): Conv2d(16, 32, kernel_size=(3, 3), stride=(2, 2), padding=(1, 1))\n",
            "    (1): ReLU()\n",
            "  )\n",
            "  (6): Sequential(\n",
            "    (0): Conv2d(32, 32, kernel_size=(3, 3), stride=(1, 1), padding=(1, 1))\n",
            "    (1): ReLU()\n",
            "  )\n",
            "  (7): Sequential(\n",
            "    (0): Conv2d(32, 32, kernel_size=(3, 3), stride=(1, 1), padding=(1, 1))\n",
            "    (1): ReLU()\n",
            "  )\n",
            "  (8): Sequential(\n",
            "    (0): Conv2d(32, 64, kernel_size=(3, 3), stride=(2, 2), padding=(1, 1))\n",
            "    (1): ReLU()\n",
            "  )\n",
            "  (9): Sequential(\n",
            "    (0): Conv2d(64, 64, kernel_size=(3, 3), stride=(1, 1), padding=(1, 1))\n",
            "    (1): ReLU()\n",
            "  )\n",
            "  (10): Sequential(\n",
            "    (0): AdaptiveMaxPool2d(output_size=(1, 1))\n",
            "    (1): Flatten(start_dim=1, end_dim=-1)\n",
            "    (2): Linear(in_features=64, out_features=10, bias=True)\n",
            "  )\n",
            ")\n"
          ]
        }
      ],
      "source": [
        "class CNN(torch.nn.Sequential):\n",
        "    def __init__(self, num_classes=10, num_layers=10):\n",
        "        in_channels = 3\n",
        "        layers = []\n",
        "        for i in range(num_layers):\n",
        "            stride = 2 if (i + 1) % 3 == 0 else 1\n",
        "            out_channels = 8 if i == 0 else in_channels * stride\n",
        "            layers.append(self.make_layer(in_channels, out_channels, stride))\n",
        "            in_channels = out_channels\n",
        "        layers.append(self.make_head(in_channels, num_classes))\n",
        "        super().__init__(*layers)\n",
        "        self.num_classes = num_classes\n",
        "            \n",
        "    def make_layer(self, in_channels, out_channels, stride):\n",
        "        return torch.nn.Sequential(\n",
        "            torch.nn.Conv2d(in_channels, out_channels, 3, stride, padding=1),\n",
        "            torch.nn.ReLU()\n",
        "        )\n",
        "\n",
        "    def make_head(self, in_channels, out_channels):\n",
        "        return torch.nn.Sequential(\n",
        "            torch.nn.AdaptiveMaxPool2d((1, 1)),\n",
        "            torch.nn.Flatten(),\n",
        "            torch.nn.Linear(in_channels, out_channels)\n",
        "        )\n",
        "    \n",
        "print(CNN(10))"
      ]
    },
    {
      "cell_type": "code",
      "execution_count": 23,
      "id": "66aef532",
      "metadata": {
        "id": "66aef532"
      },
      "outputs": [],
      "source": [
        "class Module(pl.LightningModule):\n",
        "    def __init__(self, model, batch_size=512):\n",
        "        super().__init__()\n",
        "        self.batch_size = batch_size\n",
        "        self.model = model\n",
        "        self.criterion = torch.nn.CrossEntropyLoss()\n",
        "        self.metric = Accuracy(num_classes=model.num_classes, task='multiclass')\n",
        "        \n",
        "    def forward(self, images):\n",
        "        return self.model(images)\n",
        "    \n",
        "    def step(self, stage, batch, batch_idx):\n",
        "        images, labels = batch\n",
        "        logits = self(images)\n",
        "        loss = self.criterion(logits, labels)\n",
        "        return {\n",
        "            \"loss\": loss,\n",
        "            \"logits\": logits\n",
        "        }\n",
        "    \n",
        "    def training_step(self, batch, batch_idx):\n",
        "        results = self.step(\"train\", batch, batch_idx)\n",
        "        self.log(\"lr\", self.trainer.optimizers[0].param_groups[0][\"lr\"], prog_bar=True)\n",
        "        with torch.no_grad():\n",
        "            accuracy = (results[\"logits\"].argmax(-1) == batch[1]).float().mean().item()\n",
        "            self.log(\"accuracy\", accuracy, prog_bar=True)\n",
        "        return results[\"loss\"]\n",
        "    \n",
        "    def validation_step(self, batch, batch_idx):\n",
        "        results = self.step(\"val\", batch, batch_idx)\n",
        "        self.metric.update(results[\"logits\"].argmax(dim=-1), batch[1])\n",
        "        self.log(f\"val_loss\", results[\"loss\"], prog_bar=True)\n",
        "        self.log(f\"val_acc\", self.metric, prog_bar=True)\n",
        "        \n",
        "    def validation_epoch_end(self, outputs):\n",
        "        self.final_metric = self.metric.compute()\n",
        "        super().validation_epoch_end(outputs)\n",
        "    \n",
        "    def configure_optimizers(self):\n",
        "        optimizer = torch.optim.SGD(self.parameters(), lr=0.1)\n",
        "        scheduler = torch.optim.lr_scheduler.ExponentialLR(optimizer, gamma=0.8)\n",
        "        return [optimizer], [scheduler]\n",
        "    \n",
        "    def train_dataloader(self):\n",
        "        return torch.utils.data.DataLoader(trainset, batch_size=self.batch_size,\n",
        "                                           shuffle=True, drop_last=True,\n",
        "                                           num_workers=NUM_WORKERS)\n",
        "    \n",
        "    def val_dataloader(self):\n",
        "        return torch.utils.data.DataLoader(testset, batch_size=self.batch_size,\n",
        "                                           num_workers=NUM_WORKERS)\n",
        "    \n",
        "\n",
        "def train(module, epochs=10, dump=None):\n",
        "    seed_everything(0)\n",
        "    trainer = pl.Trainer(default_root_dir=ROOT, accelerator=\"auto\", max_epochs=epochs)\n",
        "    trainer.fit(module)\n",
        "    if dump is not None:\n",
        "        with open(dump, \"w\") as fp:\n",
        "            yaml.safe_dump({\"tasks\": [{\"task1\": {\"answer\": module.final_metric.item()}}]}, fp)"
      ]
    },
    {
      "cell_type": "code",
      "execution_count": 6,
      "id": "iRCrYoM8vMv1",
      "metadata": {
        "id": "iRCrYoM8vMv1"
      },
      "outputs": [],
      "source": [
        "# train(Module(CNN()))"
      ]
    },
    {
      "cell_type": "markdown",
      "id": "LFWA-BePtWLK",
      "metadata": {
        "id": "LFWA-BePtWLK"
      },
      "source": [
        "# Ваше решение"
      ]
    },
    {
      "cell_type": "code",
      "execution_count": 27,
      "id": "SvJzcRGEtKEz",
      "metadata": {
        "id": "SvJzcRGEtKEz"
      },
      "outputs": [],
      "source": [
        "class BetterCNN(CNN):\n",
        "    # Предлагается добавить регуляризации BatchNorm2d и Dropout.\n",
        "    def make_layer(self, in_channels, out_channels, stride): \n",
        "        return torch.nn.Sequential(\n",
        "            torch.nn.Conv2d(in_channels, out_channels, 3, stride, padding=1, bias=False),\n",
        "            torch.nn.BatchNorm2d(out_channels),\n",
        "            torch.nn.ReLU(),\n",
        "            torch.nn.Dropout(0.2)\n",
        "        )\n",
        "\n",
        "    def make_head(self, in_channels, out_channels):\n",
        "        return torch.nn.Sequential(\n",
        "            torch.nn.AdaptiveMaxPool2d((1, 1)),\n",
        "            torch.nn.Flatten(),\n",
        "            torch.nn.Linear(in_channels, out_channels)\n",
        "        )\n",
        "\n",
        "class BetterModule(Module):\n",
        "    # Предлагается выбрать оптимизатор лучше, чем SGD.\n",
        "    # Также предлагается подобрать параметры обучения.\n",
        "    def configure_optimizers(self):\n",
        "        optimizer = torch.optim.Adam(self.parameters(), lr=11e-3, betas = (0.85, 0.98), amsgrad = True)\n",
        "        scheduler = torch.optim.lr_scheduler.ExponentialLR(optimizer,  gamma=0.98)\n",
        "        return [optimizer], [scheduler]\n",
        "\n",
        "\n",
        "#BetterCNN() #adam 1e-2 init lr, steplr - 2, 0.8\n",
        "             #adam 40 epochs, lr=1e-2, betas = (0.8, 0.98), amsgrad = True, steplr - 2, 0.8 ------0.723\n",
        "             #adam 70 epochs, lr=1e-2, betas = (0.85, 0.94), amsgrad = True, eplr - 0.94 ------0.77\n",
        "             #adam 70 epochs, lr=11e-3, betas = (0.85, 0.98), amsgrad = True, explr - 0.98 ------0.781"
      ]
    },
    {
      "cell_type": "code",
      "source": [
        "torch.manual_seed(0)\n",
        "\n",
        "train(BetterModule(BetterCNN()), epochs = 90, dump=ANSWER_FILE)"
      ],
      "metadata": {
        "id": "DKb_URrfUwU7"
      },
      "id": "DKb_URrfUwU7",
      "execution_count": null,
      "outputs": []
    },
    {
      "cell_type": "code",
      "execution_count": 26,
      "id": "33400dab",
      "metadata": {
        "colab": {
          "base_uri": "https://localhost:8080/",
          "height": 17
        },
        "id": "33400dab",
        "outputId": "5eb99945-188f-4bbe-b106-4171e28e0608"
      },
      "outputs": [
        {
          "output_type": "display_data",
          "data": {
            "text/plain": [
              "<IPython.core.display.Javascript object>"
            ],
            "application/javascript": [
              "\n",
              "    async function download(id, filename, size) {\n",
              "      if (!google.colab.kernel.accessAllowed) {\n",
              "        return;\n",
              "      }\n",
              "      const div = document.createElement('div');\n",
              "      const label = document.createElement('label');\n",
              "      label.textContent = `Downloading \"${filename}\": `;\n",
              "      div.appendChild(label);\n",
              "      const progress = document.createElement('progress');\n",
              "      progress.max = size;\n",
              "      div.appendChild(progress);\n",
              "      document.body.appendChild(div);\n",
              "\n",
              "      const buffers = [];\n",
              "      let downloaded = 0;\n",
              "\n",
              "      const channel = await google.colab.kernel.comms.open(id);\n",
              "      // Send a message to notify the kernel that we're ready.\n",
              "      channel.send({})\n",
              "\n",
              "      for await (const message of channel.messages) {\n",
              "        // Send a message to notify the kernel that we're ready.\n",
              "        channel.send({})\n",
              "        if (message.buffers) {\n",
              "          for (const buffer of message.buffers) {\n",
              "            buffers.push(buffer);\n",
              "            downloaded += buffer.byteLength;\n",
              "            progress.value = downloaded;\n",
              "          }\n",
              "        }\n",
              "      }\n",
              "      const blob = new Blob(buffers, {type: 'application/binary'});\n",
              "      const a = document.createElement('a');\n",
              "      a.href = window.URL.createObjectURL(blob);\n",
              "      a.download = filename;\n",
              "      div.appendChild(a);\n",
              "      a.click();\n",
              "      div.remove();\n",
              "    }\n",
              "  "
            ]
          },
          "metadata": {}
        },
        {
          "output_type": "display_data",
          "data": {
            "text/plain": [
              "<IPython.core.display.Javascript object>"
            ],
            "application/javascript": [
              "download(\"download_239896bb-351f-453e-889b-fb3286f60518\", \"submission.yaml\", 47)"
            ]
          },
          "metadata": {}
        }
      ],
      "source": [
        "### Use from Google Colab to download result.\n",
        "from google.colab import files\n",
        "files.download(ANSWER_FILE) "
      ]
    }
  ],
  "metadata": {
    "accelerator": "GPU",
    "colab": {
      "provenance": []
    },
    "kernelspec": {
      "display_name": "Python 3",
      "language": "python",
      "name": "python3"
    },
    "language_info": {
      "codemirror_mode": {
        "name": "ipython",
        "version": 3
      },
      "file_extension": ".py",
      "mimetype": "text/x-python",
      "name": "python",
      "nbconvert_exporter": "python",
      "pygments_lexer": "ipython3",
      "version": "3.8.9"
    },
    "widgets": {
      "application/vnd.jupyter.widget-state+json": {
        "794d3fc5ca3f4e4ea13473a3b41448bd": {
          "model_module": "@jupyter-widgets/controls",
          "model_name": "HBoxModel",
          "model_module_version": "1.5.0",
          "state": {
            "_dom_classes": [],
            "_model_module": "@jupyter-widgets/controls",
            "_model_module_version": "1.5.0",
            "_model_name": "HBoxModel",
            "_view_count": null,
            "_view_module": "@jupyter-widgets/controls",
            "_view_module_version": "1.5.0",
            "_view_name": "HBoxView",
            "box_style": "",
            "children": [
              "IPY_MODEL_2ec0c332a1a940f697842cdfc1c15d60",
              "IPY_MODEL_fc8bf10851df471ca55f10237e60806e",
              "IPY_MODEL_5807f0261fa64905ba91e71efcd8c0e3"
            ],
            "layout": "IPY_MODEL_4a897b2fa4b848daa94ddb48d1f5a741"
          }
        },
        "2ec0c332a1a940f697842cdfc1c15d60": {
          "model_module": "@jupyter-widgets/controls",
          "model_name": "HTMLModel",
          "model_module_version": "1.5.0",
          "state": {
            "_dom_classes": [],
            "_model_module": "@jupyter-widgets/controls",
            "_model_module_version": "1.5.0",
            "_model_name": "HTMLModel",
            "_view_count": null,
            "_view_module": "@jupyter-widgets/controls",
            "_view_module_version": "1.5.0",
            "_view_name": "HTMLView",
            "description": "",
            "description_tooltip": null,
            "layout": "IPY_MODEL_d9732600570d40798a7f9d479e491be7",
            "placeholder": "​",
            "style": "IPY_MODEL_656896aed7184be4b9f8db295e3d668d",
            "value": "100%"
          }
        },
        "fc8bf10851df471ca55f10237e60806e": {
          "model_module": "@jupyter-widgets/controls",
          "model_name": "FloatProgressModel",
          "model_module_version": "1.5.0",
          "state": {
            "_dom_classes": [],
            "_model_module": "@jupyter-widgets/controls",
            "_model_module_version": "1.5.0",
            "_model_name": "FloatProgressModel",
            "_view_count": null,
            "_view_module": "@jupyter-widgets/controls",
            "_view_module_version": "1.5.0",
            "_view_name": "ProgressView",
            "bar_style": "success",
            "description": "",
            "description_tooltip": null,
            "layout": "IPY_MODEL_fc45cd33044940a39896a34badbc9708",
            "max": 170498071,
            "min": 0,
            "orientation": "horizontal",
            "style": "IPY_MODEL_07025c9048f54687b999d84264203495",
            "value": 170498071
          }
        },
        "5807f0261fa64905ba91e71efcd8c0e3": {
          "model_module": "@jupyter-widgets/controls",
          "model_name": "HTMLModel",
          "model_module_version": "1.5.0",
          "state": {
            "_dom_classes": [],
            "_model_module": "@jupyter-widgets/controls",
            "_model_module_version": "1.5.0",
            "_model_name": "HTMLModel",
            "_view_count": null,
            "_view_module": "@jupyter-widgets/controls",
            "_view_module_version": "1.5.0",
            "_view_name": "HTMLView",
            "description": "",
            "description_tooltip": null,
            "layout": "IPY_MODEL_d6f06f2c60954cd6b0389902dcfa5417",
            "placeholder": "​",
            "style": "IPY_MODEL_3507841f4be84f9ebfc6c288e12f547f",
            "value": " 170498071/170498071 [00:05&lt;00:00, 32477903.34it/s]"
          }
        },
        "4a897b2fa4b848daa94ddb48d1f5a741": {
          "model_module": "@jupyter-widgets/base",
          "model_name": "LayoutModel",
          "model_module_version": "1.2.0",
          "state": {
            "_model_module": "@jupyter-widgets/base",
            "_model_module_version": "1.2.0",
            "_model_name": "LayoutModel",
            "_view_count": null,
            "_view_module": "@jupyter-widgets/base",
            "_view_module_version": "1.2.0",
            "_view_name": "LayoutView",
            "align_content": null,
            "align_items": null,
            "align_self": null,
            "border": null,
            "bottom": null,
            "display": null,
            "flex": null,
            "flex_flow": null,
            "grid_area": null,
            "grid_auto_columns": null,
            "grid_auto_flow": null,
            "grid_auto_rows": null,
            "grid_column": null,
            "grid_gap": null,
            "grid_row": null,
            "grid_template_areas": null,
            "grid_template_columns": null,
            "grid_template_rows": null,
            "height": null,
            "justify_content": null,
            "justify_items": null,
            "left": null,
            "margin": null,
            "max_height": null,
            "max_width": null,
            "min_height": null,
            "min_width": null,
            "object_fit": null,
            "object_position": null,
            "order": null,
            "overflow": null,
            "overflow_x": null,
            "overflow_y": null,
            "padding": null,
            "right": null,
            "top": null,
            "visibility": null,
            "width": null
          }
        },
        "d9732600570d40798a7f9d479e491be7": {
          "model_module": "@jupyter-widgets/base",
          "model_name": "LayoutModel",
          "model_module_version": "1.2.0",
          "state": {
            "_model_module": "@jupyter-widgets/base",
            "_model_module_version": "1.2.0",
            "_model_name": "LayoutModel",
            "_view_count": null,
            "_view_module": "@jupyter-widgets/base",
            "_view_module_version": "1.2.0",
            "_view_name": "LayoutView",
            "align_content": null,
            "align_items": null,
            "align_self": null,
            "border": null,
            "bottom": null,
            "display": null,
            "flex": null,
            "flex_flow": null,
            "grid_area": null,
            "grid_auto_columns": null,
            "grid_auto_flow": null,
            "grid_auto_rows": null,
            "grid_column": null,
            "grid_gap": null,
            "grid_row": null,
            "grid_template_areas": null,
            "grid_template_columns": null,
            "grid_template_rows": null,
            "height": null,
            "justify_content": null,
            "justify_items": null,
            "left": null,
            "margin": null,
            "max_height": null,
            "max_width": null,
            "min_height": null,
            "min_width": null,
            "object_fit": null,
            "object_position": null,
            "order": null,
            "overflow": null,
            "overflow_x": null,
            "overflow_y": null,
            "padding": null,
            "right": null,
            "top": null,
            "visibility": null,
            "width": null
          }
        },
        "656896aed7184be4b9f8db295e3d668d": {
          "model_module": "@jupyter-widgets/controls",
          "model_name": "DescriptionStyleModel",
          "model_module_version": "1.5.0",
          "state": {
            "_model_module": "@jupyter-widgets/controls",
            "_model_module_version": "1.5.0",
            "_model_name": "DescriptionStyleModel",
            "_view_count": null,
            "_view_module": "@jupyter-widgets/base",
            "_view_module_version": "1.2.0",
            "_view_name": "StyleView",
            "description_width": ""
          }
        },
        "fc45cd33044940a39896a34badbc9708": {
          "model_module": "@jupyter-widgets/base",
          "model_name": "LayoutModel",
          "model_module_version": "1.2.0",
          "state": {
            "_model_module": "@jupyter-widgets/base",
            "_model_module_version": "1.2.0",
            "_model_name": "LayoutModel",
            "_view_count": null,
            "_view_module": "@jupyter-widgets/base",
            "_view_module_version": "1.2.0",
            "_view_name": "LayoutView",
            "align_content": null,
            "align_items": null,
            "align_self": null,
            "border": null,
            "bottom": null,
            "display": null,
            "flex": null,
            "flex_flow": null,
            "grid_area": null,
            "grid_auto_columns": null,
            "grid_auto_flow": null,
            "grid_auto_rows": null,
            "grid_column": null,
            "grid_gap": null,
            "grid_row": null,
            "grid_template_areas": null,
            "grid_template_columns": null,
            "grid_template_rows": null,
            "height": null,
            "justify_content": null,
            "justify_items": null,
            "left": null,
            "margin": null,
            "max_height": null,
            "max_width": null,
            "min_height": null,
            "min_width": null,
            "object_fit": null,
            "object_position": null,
            "order": null,
            "overflow": null,
            "overflow_x": null,
            "overflow_y": null,
            "padding": null,
            "right": null,
            "top": null,
            "visibility": null,
            "width": null
          }
        },
        "07025c9048f54687b999d84264203495": {
          "model_module": "@jupyter-widgets/controls",
          "model_name": "ProgressStyleModel",
          "model_module_version": "1.5.0",
          "state": {
            "_model_module": "@jupyter-widgets/controls",
            "_model_module_version": "1.5.0",
            "_model_name": "ProgressStyleModel",
            "_view_count": null,
            "_view_module": "@jupyter-widgets/base",
            "_view_module_version": "1.2.0",
            "_view_name": "StyleView",
            "bar_color": null,
            "description_width": ""
          }
        },
        "d6f06f2c60954cd6b0389902dcfa5417": {
          "model_module": "@jupyter-widgets/base",
          "model_name": "LayoutModel",
          "model_module_version": "1.2.0",
          "state": {
            "_model_module": "@jupyter-widgets/base",
            "_model_module_version": "1.2.0",
            "_model_name": "LayoutModel",
            "_view_count": null,
            "_view_module": "@jupyter-widgets/base",
            "_view_module_version": "1.2.0",
            "_view_name": "LayoutView",
            "align_content": null,
            "align_items": null,
            "align_self": null,
            "border": null,
            "bottom": null,
            "display": null,
            "flex": null,
            "flex_flow": null,
            "grid_area": null,
            "grid_auto_columns": null,
            "grid_auto_flow": null,
            "grid_auto_rows": null,
            "grid_column": null,
            "grid_gap": null,
            "grid_row": null,
            "grid_template_areas": null,
            "grid_template_columns": null,
            "grid_template_rows": null,
            "height": null,
            "justify_content": null,
            "justify_items": null,
            "left": null,
            "margin": null,
            "max_height": null,
            "max_width": null,
            "min_height": null,
            "min_width": null,
            "object_fit": null,
            "object_position": null,
            "order": null,
            "overflow": null,
            "overflow_x": null,
            "overflow_y": null,
            "padding": null,
            "right": null,
            "top": null,
            "visibility": null,
            "width": null
          }
        },
        "3507841f4be84f9ebfc6c288e12f547f": {
          "model_module": "@jupyter-widgets/controls",
          "model_name": "DescriptionStyleModel",
          "model_module_version": "1.5.0",
          "state": {
            "_model_module": "@jupyter-widgets/controls",
            "_model_module_version": "1.5.0",
            "_model_name": "DescriptionStyleModel",
            "_view_count": null,
            "_view_module": "@jupyter-widgets/base",
            "_view_module_version": "1.2.0",
            "_view_name": "StyleView",
            "description_width": ""
          }
        }
      }
    }
  },
  "nbformat": 4,
  "nbformat_minor": 5
}
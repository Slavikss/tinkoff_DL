{
 "cells": [
  {
   "cell_type": "markdown",
   "id": "75cf4793",
   "metadata": {},
   "source": [
    "# Регуляризация\n",
    "\n",
    "В рамках задания предлагается улучшить качество модели, подверженной переобучению.\n",
    "\n",
    "Загрузим корпус MNIST и оставим 10000 тренировочных примеров."
   ]
  },
  {
   "cell_type": "code",
   "execution_count": null,
   "id": "9b4c6ea3",
   "metadata": {},
   "outputs": [],
   "source": [
    "import torch\n",
    "import numpy as np\n",
    "import torchvision\n",
    "from torchvision.datasets import MNIST\n",
    "from matplotlib import pyplot as plt\n",
    "from tqdm import tqdm\n",
    "\n",
    "USE_CUDA = torch.cuda.is_available()\n",
    "print(\"USE CUDA:\", USE_CUDA)\n",
    "\n",
    "torch.manual_seed(0)\n",
    "np.random.seed(0)\n",
    "\n",
    "SUBSET_SIZE = 1000\n",
    "BATCH_SIZE = 32\n",
    "\n",
    "transform = torchvision.transforms.ToTensor()\n",
    "\n",
    "train = MNIST(\"mnist\", train=True, transform=transform, download=True)\n",
    "train = torch.utils.data.Subset(train, np.random.permutation(len(train))[:SUBSET_SIZE])\n",
    "test = MNIST(\"mnist\", train=False, transform=transform, download=True)\n",
    "print(\"Train size:\", len(train))\n",
    "print(\"Test size:\", len(test))\n",
    "\n",
    "def draw(dataset):\n",
    "    images, labels = zip(*[dataset[i] for i in range(9)])\n",
    "    fig, axs = plt.subplots(3, 3, squeeze=False)\n",
    "    for i, image in enumerate(images):\n",
    "        ax = axs[i // 3, i % 3]\n",
    "        ax.imshow(image.permute(1, 2, 0).squeeze(-1))\n",
    "    plt.show()\n",
    "\n",
    "draw(train)"
   ]
  },
  {
   "cell_type": "code",
   "execution_count": null,
   "id": "08ab8186",
   "metadata": {},
   "outputs": [],
   "source": [
    "def compute_accuracy(model, loader):\n",
    "    if USE_CUDA:\n",
    "        model.cuda()\n",
    "    model.eval()\n",
    "    n_correct = 0\n",
    "    n = 0\n",
    "    for images, labels in loader:\n",
    "        if USE_CUDA:\n",
    "            images = images.cuda()\n",
    "            labels = labels.cuda()\n",
    "        n_correct += (model(images).argmax(dim=1) == labels).sum().item()\n",
    "        n += len(images)\n",
    "    return n_correct / n"
   ]
  },
  {
   "cell_type": "code",
   "execution_count": null,
   "id": "699767e8",
   "metadata": {},
   "outputs": [],
   "source": [
    "def run(model, **optimizer_kwargs):\n",
    "    print(\"Num parameters\", sum(map(torch.numel, model.parameters())))\n",
    "    if USE_CUDA:\n",
    "        model.cuda()\n",
    "    criterion = torch.nn.CrossEntropyLoss()\n",
    "    optimizer = torch.optim.SGD(model.parameters(),\n",
    "                                lr=optimizer_kwargs.get(\"lr\", 0.1),\n",
    "                                **optimizer_kwargs)\n",
    "    loader = torch.utils.data.DataLoader(train, batch_size=BATCH_SIZE, drop_last=True)\n",
    "    scheduler = torch.optim.lr_scheduler.ExponentialLR(optimizer, gamma=0.5)\n",
    "    test_loader = torch.utils.data.DataLoader(test, batch_size=BATCH_SIZE)\n",
    "    train_accuracies = []\n",
    "    test_accuracies = []\n",
    "    for epoch in range(20):\n",
    "        model.train()\n",
    "        losses = []\n",
    "        for images, labels in loader:\n",
    "            if USE_CUDA:\n",
    "                images = images.cuda()\n",
    "                labels = labels.cuda()\n",
    "            logits = model(images)\n",
    "            loss = criterion(logits, labels)\n",
    "            loss.backward()\n",
    "            optimizer.step()\n",
    "            optimizer.zero_grad()\n",
    "            losses.append(loss.item())\n",
    "        model.eval()\n",
    "        train_accuracy = compute_accuracy(model, loader)\n",
    "        test_accuracy = compute_accuracy(model, test_loader)\n",
    "        train_accuracies.append(train_accuracy)\n",
    "        test_accuracies.append(test_accuracy)\n",
    "        print(f\"Epoch {epoch}, loss {np.mean(losses):.3f}, train {train_accuracy:.3f}, test {test_accuracy:.3f}\")\n",
    "    print(\"Weights norm\", torch.linalg.norm(torch.concat([p.flatten() for p in model.parameters()])).item())\n",
    "    plt.ylim(train_accuracies[1], 1)\n",
    "    plt.xlabel(\"Epoch\")\n",
    "    plt.ylabel(\"Accuracy\")\n",
    "    plt.plot(train_accuracies, label=\"Train\", marker=\"o\")\n",
    "    plt.plot(test_accuracies, label=\"Test\", marker=\"o\")\n",
    "    plt.legend()\n",
    "    plt.show()\n",
    "    \n",
    "torch.manual_seed(0)\n",
    "\n",
    "model = torch.nn.Sequential(\n",
    "    torch.nn.Conv2d(1, 4, 3, stride=2),\n",
    "    torch.nn.ReLU(),\n",
    "    torch.nn.Conv2d(4, 8, 3, stride=2),\n",
    "    torch.nn.ReLU(),\n",
    "    torch.nn.Flatten(),\n",
    "    torch.nn.Linear(288, 10)\n",
    ")\n",
    "        \n",
    "run(model)"
   ]
  },
  {
   "cell_type": "code",
   "execution_count": null,
   "id": "e812cc70",
   "metadata": {},
   "outputs": [],
   "source": [
    "torch.manual_seed(0)\n",
    "\n",
    "model = torch.nn.Sequential(\n",
    "    torch.nn.Conv2d(1, 4, 3, stride=2),\n",
    "    torch.nn.ReLU(),\n",
    "    torch.nn.Conv2d(4, 8, 3, stride=2),\n",
    "    torch.nn.ReLU(),\n",
    "    torch.nn.Flatten(),\n",
    "    torch.nn.Linear(288, 10)\n",
    ")\n",
    "\n",
    "run(model, weight_decay=0.05)"
   ]
  },
  {
   "cell_type": "markdown",
   "id": "429a3b05",
   "metadata": {},
   "source": [
    "При `weight_decay=0.05` точность на train падает на 4.3%, а на test на 1.4%. Таким образом переобучение становится меньше, но качество на test падает."
   ]
  },
  {
   "cell_type": "markdown",
   "id": "28aa4375",
   "metadata": {},
   "source": [
    "**Задание 1**. Может ли выбор `weight_decay` увеличить точность на train? Какой максимальной точности на test можно добиться подбором этого параметра? Может ли точность на train и test примерно сравняться?"
   ]
  },
  {
   "cell_type": "code",
   "execution_count": null,
   "id": "a49bb4e8",
   "metadata": {},
   "outputs": [],
   "source": [
    "torch.manual_seed(0)\n",
    "\n",
    "model = torch.nn.Sequential(\n",
    "    torch.nn.Conv2d(1, 4, 3, stride=2),\n",
    "    torch.nn.ReLU(),\n",
    "    torch.nn.Conv2d(4, 8, 3, stride=2),\n",
    "    torch.nn.ReLU(),\n",
    "    torch.nn.Flatten(),\n",
    "    torch.nn.Linear(288, 10)\n",
    ")\n",
    "\n",
    "run(model, weight_decay=...)  # Ваш параметр."
   ]
  },
  {
   "cell_type": "markdown",
   "id": "6d9e2e30",
   "metadata": {},
   "source": [
    "**Задание 2.** Добавьте `torch.nn.Dropout`, подберите параметр и увеличьте точность на test до 90% или выше. Изменилось ли число параметров модели? Вырастает ли при этом точность на train?"
   ]
  },
  {
   "cell_type": "code",
   "execution_count": null,
   "id": "6efa3925",
   "metadata": {},
   "outputs": [],
   "source": [
    "torch.manual_seed(0)\n",
    "\n",
    "model = torch.nn.Sequential(\n",
    "    torch.nn.Conv2d(1, 4, 3, stride=2),\n",
    "    torch.nn.ReLU(),\n",
    "    torch.nn.Conv2d(4, 8, 3, stride=2),\n",
    "    torch.nn.ReLU(),\n",
    "    torch.nn.Flatten(),\n",
    "    torch.nn.Linear(288, 10)\n",
    ")  # Добавьте dropout в модель.\n",
    "\n",
    "run(model)"
   ]
  },
  {
   "cell_type": "markdown",
   "id": "187b96e0",
   "metadata": {},
   "source": [
    "**Задание 3** Добавить BatchNorm2d в модель. Изменилось ли при этом число параметров модели? Увеличьте точность на test до 89% или выше. Насколько можно увеличить точность на train?"
   ]
  },
  {
   "cell_type": "code",
   "execution_count": null,
   "id": "ca6a126d",
   "metadata": {},
   "outputs": [],
   "source": [
    "torch.manual_seed(0)\n",
    "\n",
    "model = torch.nn.Sequential(\n",
    "    torch.nn.Conv2d(1, 4, 3, stride=2),\n",
    "    torch.nn.ReLU(),\n",
    "    torch.nn.Conv2d(4, 8, 3, stride=2),\n",
    "    torch.nn.ReLU(),\n",
    "    torch.nn.Flatten(),\n",
    "    torch.nn.Linear(288, 10)\n",
    ")  # Добавьте BatchNorm2d в модель (возможно несколько раз).\n",
    "\n",
    "run(model)"
   ]
  },
  {
   "cell_type": "markdown",
   "id": "6df3fd46",
   "metadata": {},
   "source": [
    "**Задание 4.** Попробуйте добиться точности 92% или выше на test используя все предыдущие способы (можно добиться 93%+)."
   ]
  },
  {
   "cell_type": "code",
   "execution_count": null,
   "id": "07c99074",
   "metadata": {},
   "outputs": [],
   "source": [
    "torch.manual_seed(0)\n",
    "\n",
    "model = torch.nn.Sequential(\n",
    "    torch.nn.Conv2d(1, 4, 3, stride=2),\n",
    "    torch.nn.ReLU(),\n",
    "    torch.nn.Conv2d(4, 8, 3, stride=2),\n",
    "    torch.nn.ReLU(),\n",
    "    torch.nn.Flatten(),\n",
    "    torch.nn.Linear(288, 10)\n",
    ")\n",
    "\n",
    "run(model)"
   ]
  }
 ],
 "metadata": {
  "kernelspec": {
   "display_name": "Python 3",
   "language": "python",
   "name": "python3"
  },
  "language_info": {
   "codemirror_mode": {
    "name": "ipython",
    "version": 3
   },
   "file_extension": ".py",
   "mimetype": "text/x-python",
   "name": "python",
   "nbconvert_exporter": "python",
   "pygments_lexer": "ipython3",
   "version": "3.8.9"
  }
 },
 "nbformat": 4,
 "nbformat_minor": 5
}

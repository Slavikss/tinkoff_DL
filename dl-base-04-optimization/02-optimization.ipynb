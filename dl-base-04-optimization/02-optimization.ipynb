{
 "cells": [
  {
   "cell_type": "markdown",
   "id": "75cf4793",
   "metadata": {},
   "source": [
    "# Методы оптимизации\n",
    "\n",
    "# Обучение с обычным SGD\n",
    "\n",
    "Загрузим данные, создадим модель и обучим с обычным SGD."
   ]
  },
  {
   "cell_type": "code",
   "execution_count": null,
   "id": "9b4c6ea3",
   "metadata": {},
   "outputs": [],
   "source": [
    "import torch\n",
    "import numpy as np\n",
    "import torchvision\n",
    "from torchvision.datasets import FashionMNIST\n",
    "from matplotlib import pyplot as plt\n",
    "from tqdm import tqdm\n",
    "\n",
    "USE_CUDA = torch.cuda.is_available()\n",
    "print(\"USE CUDA:\", USE_CUDA)\n",
    "\n",
    "torch.manual_seed(0)\n",
    "np.random.seed(0)\n",
    "\n",
    "SUBSET_SIZE = 10000\n",
    "BATCH_SIZE = 32\n",
    "\n",
    "transform = torchvision.transforms.ToTensor()\n",
    "\n",
    "train = FashionMNIST(\"mnist\", train=True, transform=transform, download=True)\n",
    "train = torch.utils.data.Subset(train, np.random.permutation(len(train))[:SUBSET_SIZE])\n",
    "test = FashionMNIST(\"mnist\", train=False, transform=transform, download=True)\n",
    "print(\"Train size:\", len(train))\n",
    "print(\"Test size:\", len(test))\n",
    "\n",
    "def draw(dataset):\n",
    "    images, labels = zip(*[dataset[i] for i in range(9)])\n",
    "    fig, axs = plt.subplots(3, 3, squeeze=False)\n",
    "    for i, image in enumerate(images):\n",
    "        ax = axs[i // 3, i % 3]\n",
    "        ax.imshow(image.permute(1, 2, 0).squeeze(-1))\n",
    "    plt.show()\n",
    "\n",
    "draw(train)"
   ]
  },
  {
   "cell_type": "code",
   "execution_count": null,
   "id": "08ab8186",
   "metadata": {},
   "outputs": [],
   "source": [
    "def compute_accuracy(model, loader):\n",
    "    if USE_CUDA:\n",
    "        model.cuda()\n",
    "    model.eval()\n",
    "    n_correct = 0\n",
    "    n = 0\n",
    "    for images, labels in loader:\n",
    "        if USE_CUDA:\n",
    "            images = images.cuda()\n",
    "            labels = labels.cuda()\n",
    "        n_correct += (model(images).argmax(dim=1) == labels).sum().item()\n",
    "        n += len(images)\n",
    "    return n_correct / n"
   ]
  },
  {
   "cell_type": "code",
   "execution_count": null,
   "id": "699767e8",
   "metadata": {},
   "outputs": [],
   "source": [
    "def get_model():\n",
    "    torch.manual_seed(0)\n",
    "    return torch.nn.Sequential(\n",
    "        torch.nn.Conv2d(1, 4, 3, stride=2),\n",
    "        torch.nn.ReLU(),\n",
    "        torch.nn.Conv2d(4, 8, 3, stride=2),\n",
    "        torch.nn.ReLU(),\n",
    "        torch.nn.Flatten(),\n",
    "        torch.nn.Linear(288, 10)\n",
    "    )\n",
    "\n",
    "def run(model, optimizer, epochs=10, scheduler=None):\n",
    "    print(\"Num parameters\", sum(map(torch.numel, model.parameters())))\n",
    "    if USE_CUDA:\n",
    "        model.cuda()\n",
    "    criterion = torch.nn.CrossEntropyLoss()\n",
    "    loader = torch.utils.data.DataLoader(train, batch_size=BATCH_SIZE, drop_last=True)\n",
    "    if scheduler is None:\n",
    "        scheduler = torch.optim.lr_scheduler.ExponentialLR(optimizer, gamma=0.5)\n",
    "    test_loader = torch.utils.data.DataLoader(test, batch_size=BATCH_SIZE)\n",
    "    train_accuracies = []\n",
    "    test_accuracies = []\n",
    "    for epoch in range(epochs):\n",
    "        model.train()\n",
    "        losses = []\n",
    "        for images, labels in loader:\n",
    "            if USE_CUDA:\n",
    "                images = images.cuda()\n",
    "                labels = labels.cuda()\n",
    "            logits = model(images)\n",
    "            loss = criterion(logits, labels)\n",
    "            loss.backward()\n",
    "            optimizer.step()\n",
    "            optimizer.zero_grad()\n",
    "            losses.append(loss.item())\n",
    "        model.eval()\n",
    "        train_accuracy = compute_accuracy(model, loader)\n",
    "        test_accuracy = compute_accuracy(model, test_loader)\n",
    "        train_accuracies.append(train_accuracy)\n",
    "        test_accuracies.append(test_accuracy)\n",
    "        print(f\"Epoch {epoch}, loss {np.mean(losses):.3f}, train {train_accuracy:.3f}, test {test_accuracy:.3f}\")\n",
    "        if scheduler is not None:\n",
    "            if isinstance(scheduler, torch.optim.lr_scheduler.ReduceLROnPlateau):\n",
    "                scheduler.step(np.mean(losses))\n",
    "            else:\n",
    "                scheduler.step()\n",
    "    print(\"Weights norm\", torch.linalg.norm(torch.concat([p.flatten() for p in model.parameters()])).item())\n",
    "    plt.xlabel(\"Epoch\")\n",
    "    plt.ylabel(\"Accuracy\")\n",
    "    plt.plot(train_accuracies, label=\"Train\", marker=\"o\")\n",
    "    plt.plot(test_accuracies, label=\"Test\", marker=\"o\")\n",
    "    plt.legend()\n",
    "    plt.show()\n",
    "\n",
    "model = get_model()\n",
    "optimizer = torch.optim.SGD(model.parameters(), lr=0.01)\n",
    "        \n",
    "run(model, optimizer)"
   ]
  },
  {
   "cell_type": "markdown",
   "id": "27600e35",
   "metadata": {},
   "source": [
    "При обучении с обычным SGD модель достигла точности 72.9% на тестовом корпусе. Попробуем улучшить.\n",
    "\n",
    "# Улучшения\n",
    "\n",
    "**Задание 1**. Примените `torch.optim.RMSprop`. Получите точность на test не меньше 82%."
   ]
  },
  {
   "cell_type": "code",
   "execution_count": null,
   "id": "d55d0c2c",
   "metadata": {},
   "outputs": [],
   "source": [
    "model = get_model()\n",
    "optimizer = ...  # Ваш код.\n",
    "        \n",
    "run(model, optimizer)"
   ]
  },
  {
   "cell_type": "markdown",
   "id": "37f95efe",
   "metadata": {},
   "source": [
    "**Задание 2.** Примените `torch.optim.Adam`. Получите точность на test не менее 83%."
   ]
  },
  {
   "cell_type": "code",
   "execution_count": null,
   "id": "cd6b52ca",
   "metadata": {},
   "outputs": [],
   "source": [
    "model = get_model()\n",
    "optimizer = ...  # Ваш код.\n",
    "\n",
    "run(model, optimizer)"
   ]
  },
  {
   "cell_type": "markdown",
   "id": "cbc59d3e",
   "metadata": {},
   "source": [
    "**Задание 3**. Примените momentum SGD. Получите точность на test не меньше 82%."
   ]
  },
  {
   "cell_type": "code",
   "execution_count": null,
   "id": "ac82149e",
   "metadata": {},
   "outputs": [],
   "source": [
    "model = get_model()\n",
    "optimizer = ...  # Ваш код.\n",
    "        \n",
    "run(model, optimizer)"
   ]
  },
  {
   "cell_type": "markdown",
   "id": "3a1f47b0",
   "metadata": {},
   "source": [
    "**Задание 4.** Примените Nesterov momentum. Получилось ли увеличить точность на train/test?"
   ]
  },
  {
   "cell_type": "code",
   "execution_count": null,
   "id": "bee4f082",
   "metadata": {},
   "outputs": [],
   "source": [
    "model = get_model()\n",
    "optimizer = ...  # Ваш код.\n",
    "        \n",
    "run(model, optimizer)"
   ]
  },
  {
   "cell_type": "markdown",
   "id": "310b0941",
   "metadata": {},
   "source": [
    "**Задание 5** Попробуйте добиться точности 83.5% на test используя momentum SGD и `torch.optim.lr_scheduler.StepLR` для изменения learning rate в процессе обучения."
   ]
  },
  {
   "cell_type": "code",
   "execution_count": null,
   "id": "b925395b",
   "metadata": {},
   "outputs": [],
   "source": [
    "model = get_model()\n",
    "optimizer = ...  # Ваш код.\n",
    "scheduler = ...  # Ваш код.\n",
    "        \n",
    "run(model, optimizer, scheduler=scheduler)"
   ]
  },
  {
   "cell_type": "markdown",
   "id": "cfbefdea",
   "metadata": {},
   "source": [
    "**Выводы:**\n",
    "1. Какой optimizer показал себя лучше?\n",
    "2. Какие параметры сильнее всего влияли на обучение?\n",
    "3. Помог ли scheduler? Насколько?"
   ]
  }
 ],
 "metadata": {
  "kernelspec": {
   "display_name": "Python 3",
   "language": "python",
   "name": "python3"
  },
  "language_info": {
   "codemirror_mode": {
    "name": "ipython",
    "version": 3
   },
   "file_extension": ".py",
   "mimetype": "text/x-python",
   "name": "python",
   "nbconvert_exporter": "python",
   "pygments_lexer": "ipython3",
   "version": "3.8.9"
  }
 },
 "nbformat": 4,
 "nbformat_minor": 5
}

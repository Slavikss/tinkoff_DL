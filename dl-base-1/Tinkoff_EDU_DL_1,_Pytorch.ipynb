{
 "cells": [
  {
   "cell_type": "markdown",
   "metadata": {
    "id": "dvJF3LdX14D8"
   },
   "source": [
    "# DL 1, Pytorch\n",
    "\n",
    "Привет! На этом занятии мы познакомимся с PyTorch, с работой gpu и получением градиентов. В конце попробуем написать нейросеть для распознавания чисел.\n",
    "\n",
    "**Для этого ноутбука надо включить GPU runtime**."
   ]
  },
  {
   "cell_type": "markdown",
   "metadata": {
    "id": "6YOmgXKgN50d"
   },
   "source": [
    "СЕМИНАР НАЧНЕТСЯ В 19:50."
   ]
  },
  {
   "cell_type": "code",
   "execution_count": 1,
   "metadata": {
    "id": "XqljkY_O1zpw"
   },
   "outputs": [],
   "source": [
    "import torch"
   ]
  },
  {
   "cell_type": "code",
   "execution_count": 4,
   "metadata": {
    "id": "Olvn23cbfr2K"
   },
   "outputs": [
    {
     "ename": "TypeError",
     "evalue": "sqrt() missing 1 required positional arguments: \"input\"",
     "output_type": "error",
     "traceback": [
      "\u001b[1;31m---------------------------------------------------------------------------\u001b[0m",
      "\u001b[1;31mTypeError\u001b[0m                                 Traceback (most recent call last)",
      "Cell \u001b[1;32mIn [4], line 1\u001b[0m\n\u001b[1;32m----> 1\u001b[0m \u001b[43mtorch\u001b[49m\u001b[38;5;241;43m.\u001b[39;49m\u001b[43msqrt\u001b[49m\u001b[43m(\u001b[49m\u001b[43m)\u001b[49m\n",
      "\u001b[1;31mTypeError\u001b[0m: sqrt() missing 1 required positional arguments: \"input\""
     ]
    }
   ],
   "source": [
    "torch.sqrt()"
   ]
  },
  {
   "cell_type": "code",
   "execution_count": 5,
   "metadata": {
    "id": "-Jvt70gEfuWP"
   },
   "outputs": [],
   "source": [
    "torch.*Tensor?"
   ]
  },
  {
   "cell_type": "markdown",
   "metadata": {
    "id": "1fYFEF-YdsDk"
   },
   "source": [
    "## Simple Pytorch\n",
    "\n",
    "Изучим простые методы pytorch. Они сильно напоминают numpy, и часто можно использовать имя метода из numpy в pytorch."
   ]
  },
  {
   "cell_type": "code",
   "execution_count": 6,
   "metadata": {
    "id": "3pdULuNOdvf3"
   },
   "outputs": [],
   "source": [
    "t = torch.Tensor(2, 3, 4)"
   ]
  },
  {
   "cell_type": "code",
   "execution_count": 7,
   "metadata": {
    "id": "hFro0BDJfy02"
   },
   "outputs": [
    {
     "data": {
      "text/plain": [
       "tensor([[[-6.9541e+18,  5.7733e-43, -6.9541e+18,  5.7733e-43],\n",
       "         [-6.9540e+18,  5.7733e-43, -6.9540e+18,  5.7733e-43],\n",
       "         [-6.9539e+18,  5.7733e-43, -6.9539e+18,  5.7733e-43]],\n",
       "\n",
       "        [[-6.9536e+18,  5.7733e-43, -6.9538e+18,  5.7733e-43],\n",
       "         [-6.9538e+18,  5.7733e-43, -6.9537e+18,  5.7733e-43],\n",
       "         [-6.9538e+18,  5.7733e-43,  1.0194e-38,  4.6838e-39]]])"
      ]
     },
     "execution_count": 7,
     "metadata": {},
     "output_type": "execute_result"
    }
   ],
   "source": [
    "t"
   ]
  },
  {
   "cell_type": "code",
   "execution_count": 8,
   "metadata": {
    "id": "XBMn76hUfzVW"
   },
   "outputs": [
    {
     "data": {
      "text/plain": [
       "2"
      ]
     },
     "execution_count": 8,
     "metadata": {},
     "output_type": "execute_result"
    }
   ],
   "source": [
    "t.size(0)"
   ]
  },
  {
   "cell_type": "code",
   "execution_count": 9,
   "metadata": {
    "id": "-dY_xn5rf0JG"
   },
   "outputs": [
    {
     "data": {
      "text/plain": [
       "tensor([[[0., 7., 1., 6.],\n",
       "         [8., 5., 5., 3.],\n",
       "         [4., 9., 4., 8.]],\n",
       "\n",
       "        [[9., 2., 5., 7.],\n",
       "         [2., 4., 7., 7.],\n",
       "         [1., 9., 9., 1.]]])"
      ]
     },
     "execution_count": 9,
     "metadata": {},
     "output_type": "execute_result"
    }
   ],
   "source": [
    "t.random_(10)\n",
    "t"
   ]
  },
  {
   "cell_type": "code",
   "execution_count": 10,
   "metadata": {
    "id": "9Ma00mgQf3Co"
   },
   "outputs": [
    {
     "data": {
      "text/plain": [
       "tensor([[[0., 0., 0., 0.],\n",
       "         [0., 0., 0., 0.],\n",
       "         [0., 0., 0., 0.]],\n",
       "\n",
       "        [[0., 0., 0., 0.],\n",
       "         [0., 0., 0., 0.],\n",
       "         [0., 0., 0., 0.]]])"
      ]
     },
     "execution_count": 10,
     "metadata": {},
     "output_type": "execute_result"
    }
   ],
   "source": [
    "t = torch.zeros_like(t)\n",
    "t"
   ]
  },
  {
   "cell_type": "code",
   "execution_count": 11,
   "metadata": {
    "id": "_gjr2qr5KjiT"
   },
   "outputs": [
    {
     "data": {
      "text/plain": [
       "tensor([[[0.7101, 0.1967, 0.5200, 0.8067],\n",
       "         [0.9568, 0.3224, 0.7951, 0.9611],\n",
       "         [0.2170, 0.0105, 0.7171, 0.4930]],\n",
       "\n",
       "        [[0.1108, 0.0580, 0.0942, 0.1874],\n",
       "         [0.8863, 0.8174, 0.2015, 0.9754],\n",
       "         [0.7790, 0.6151, 0.6973, 0.9648]]])"
      ]
     },
     "execution_count": 11,
     "metadata": {},
     "output_type": "execute_result"
    }
   ],
   "source": [
    "t = torch.rand(2, 3, 4)\n",
    "t"
   ]
  },
  {
   "cell_type": "code",
   "execution_count": 12,
   "metadata": {
    "id": "H5HvhP7ef5d9"
   },
   "outputs": [
    {
     "data": {
      "text/plain": [
       "tensor([[0.7101, 0.1967, 0.5200, 0.8067, 0.9568],\n",
       "        [0.3224, 0.7951, 0.9611, 0.2170, 0.0105],\n",
       "        [0.7171, 0.4930, 0.1108, 0.0580, 0.0942]])"
      ]
     },
     "execution_count": 12,
     "metadata": {},
     "output_type": "execute_result"
    }
   ],
   "source": [
    "r = torch.Tensor(t)\n",
    "r.resize_(3, 5)\n",
    "r"
   ]
  },
  {
   "cell_type": "code",
   "execution_count": 13,
   "metadata": {
    "id": "_hepEf6yf_E-"
   },
   "outputs": [
    {
     "data": {
      "text/plain": [
       "tensor([[0.5989, 1.6849, 1.7590, 1.5578]])"
      ]
     },
     "execution_count": 13,
     "metadata": {},
     "output_type": "execute_result"
    }
   ],
   "source": [
    "a, b = torch.rand(1, 4), torch.rand(1, 4)\n",
    "a + b"
   ]
  },
  {
   "cell_type": "code",
   "execution_count": 14,
   "metadata": {
    "id": "rHjZsU0Jf-_I"
   },
   "outputs": [
    {
     "data": {
      "text/plain": [
       "tensor([[0.0634, 0.7094, 0.7736, 0.5664]])"
      ]
     },
     "execution_count": 14,
     "metadata": {},
     "output_type": "execute_result"
    }
   ],
   "source": [
    "a * b"
   ]
  },
  {
   "cell_type": "code",
   "execution_count": 15,
   "metadata": {
    "id": "0D4AvhhxgIxM"
   },
   "outputs": [
    {
     "data": {
      "text/plain": [
       "tensor([[2.1127]])"
      ]
     },
     "execution_count": 15,
     "metadata": {},
     "output_type": "execute_result"
    }
   ],
   "source": [
    "a @ b.T"
   ]
  },
  {
   "cell_type": "code",
   "execution_count": 16,
   "metadata": {
    "id": "Q6dUncd_gFJZ"
   },
   "outputs": [
    {
     "data": {
      "text/plain": [
       "tensor([[1.2197, 0.8031, 1.1221, 1.4834, 1.5925],\n",
       "        [1.3367, 0.6396, 0.8047, 1.4512, 1.1489],\n",
       "        [1.4014, 0.7885, 1.0671, 1.5999, 1.5676]])"
      ]
     },
     "execution_count": 16,
     "metadata": {},
     "output_type": "execute_result"
    }
   ],
   "source": [
    "a, b = torch.rand(3, 4), torch.rand(4, 5)\n",
    "a @ b"
   ]
  },
  {
   "cell_type": "code",
   "execution_count": 17,
   "metadata": {
    "id": "lrT82PNbgNOR"
   },
   "outputs": [
    {
     "data": {
      "text/plain": [
       "(tensor(2.3533), tensor(9.6808))"
      ]
     },
     "execution_count": 17,
     "metadata": {},
     "output_type": "execute_result"
    }
   ],
   "source": [
    "a.norm(), b.sum() # np.linalg.norm"
   ]
  },
  {
   "cell_type": "code",
   "execution_count": 18,
   "metadata": {
    "id": "OksfVxSEgNLJ"
   },
   "outputs": [
    {
     "data": {
      "text/plain": [
       "tensor([[0.0568, 0.0965, 0.0332, 0.0918],\n",
       "        [0.0654, 0.0554, 0.0841, 0.0041],\n",
       "        [0.0549, 0.0785, 0.0686, 0.0708]])"
      ]
     },
     "execution_count": 18,
     "metadata": {},
     "output_type": "execute_result"
    }
   ],
   "source": [
    "a / 10"
   ]
  },
  {
   "cell_type": "code",
   "execution_count": 19,
   "metadata": {
    "id": "WfKZDjg7gQK0"
   },
   "outputs": [
    {
     "data": {
      "text/plain": [
       "torch.Size([5, 4, 3, 2])"
      ]
     },
     "execution_count": 19,
     "metadata": {},
     "output_type": "execute_result"
    }
   ],
   "source": [
    "torch.Tensor(3, 4, 5, 2).transpose(0, 2).shape"
   ]
  },
  {
   "cell_type": "code",
   "execution_count": 20,
   "metadata": {
    "id": "A84GkrjhgTon"
   },
   "outputs": [
    {
     "data": {
      "text/plain": [
       "(tensor([0, 1, 2, 3, 4, 5, 6, 7, 8, 9]), torch.int64)"
      ]
     },
     "execution_count": 20,
     "metadata": {},
     "output_type": "execute_result"
    }
   ],
   "source": [
    "t = torch.arange(10)\n",
    "t, t.dtype"
   ]
  },
  {
   "cell_type": "code",
   "execution_count": 21,
   "metadata": {
    "id": "n7X8sbPngFGy"
   },
   "outputs": [
    {
     "data": {
      "text/plain": [
       "(tensor([0., 1., 2., 3., 4., 5., 6., 7., 8., 9.]), torch.float32)"
      ]
     },
     "execution_count": 21,
     "metadata": {},
     "output_type": "execute_result"
    }
   ],
   "source": [
    "t = t.to(torch.float32)\n",
    "t, t.dtype"
   ]
  },
  {
   "cell_type": "markdown",
   "metadata": {
    "id": "ukSy1lzRdv0n"
   },
   "source": [
    "## Autograd & GPU\n",
    "\n",
    "Теперь поработаем с GPU и получением градиентов."
   ]
  },
  {
   "cell_type": "code",
   "execution_count": 22,
   "metadata": {
    "id": "kk68iAR4goGI"
   },
   "outputs": [
    {
     "data": {
      "text/plain": [
       "(tensor([[0.2144, 0.9962, 0.2524, 0.3129],\n",
       "         [0.0325, 0.5885, 0.0330, 0.8060],\n",
       "         [0.2659, 0.0042, 0.4692, 0.1306]]),\n",
       " tensor([[0.3173, 0.1484, 0.4082, 0.4997, 0.3845],\n",
       "         [0.3403, 0.8317, 0.2661, 0.3067, 0.3620],\n",
       "         [0.3870, 0.1338, 0.0227, 0.7302, 0.8586],\n",
       "         [0.1649, 0.8932, 0.2139, 0.5526, 0.9306]]))"
      ]
     },
     "execution_count": 22,
     "metadata": {},
     "output_type": "execute_result"
    }
   ],
   "source": [
    "a, b = torch.rand(3, 4), torch.rand(4, 5)\n",
    "a, b"
   ]
  },
  {
   "cell_type": "code",
   "execution_count": 24,
   "metadata": {
    "id": "-F8BODC7goCt"
   },
   "outputs": [],
   "source": [
    "#a = a.to(\"cuda\")"
   ]
  },
  {
   "cell_type": "code",
   "execution_count": 25,
   "metadata": {
    "id": "uFmzJK65gxT3"
   },
   "outputs": [
    {
     "data": {
      "text/plain": [
       "tensor([[0.5564, 1.1736, 0.4253, 0.7699, 0.9509],\n",
       "        [0.3563, 1.2186, 0.3431, 0.6663, 1.0040],\n",
       "        [0.2889, 0.2224, 0.1482, 0.5489, 0.6281]])"
      ]
     },
     "execution_count": 25,
     "metadata": {},
     "output_type": "execute_result"
    }
   ],
   "source": [
    "a @ b"
   ]
  },
  {
   "cell_type": "code",
   "execution_count": 26,
   "metadata": {
    "id": "YHC6MhPFgxDI"
   },
   "outputs": [],
   "source": [
    "#b = b.to(\"cuda\")"
   ]
  },
  {
   "cell_type": "code",
   "execution_count": 27,
   "metadata": {
    "id": "H-aQgbxJgw3c"
   },
   "outputs": [
    {
     "data": {
      "text/plain": [
       "tensor([[0.5564, 1.1736, 0.4253, 0.7699, 0.9509],\n",
       "        [0.3563, 1.2186, 0.3431, 0.6663, 1.0040],\n",
       "        [0.2889, 0.2224, 0.1482, 0.5489, 0.6281]])"
      ]
     },
     "execution_count": 27,
     "metadata": {},
     "output_type": "execute_result"
    }
   ],
   "source": [
    "a @ b"
   ]
  },
  {
   "cell_type": "code",
   "execution_count": 50,
   "metadata": {
    "id": "GgnHYuYAgn_f"
   },
   "outputs": [
    {
     "data": {
      "text/plain": [
       "tensor(9.3010, grad_fn=<SumBackward0>)"
      ]
     },
     "execution_count": 50,
     "metadata": {},
     "output_type": "execute_result"
    }
   ],
   "source": [
    "a.requires_grad_(True)\n",
    "\n",
    "s = (a @ b).sum()\n",
    "s"
   ]
  },
  {
   "cell_type": "code",
   "execution_count": 52,
   "metadata": {
    "id": "nEvvY76Dg7oB"
   },
   "outputs": [
    {
     "data": {
      "text/plain": [
       "tensor(9.3010, grad_fn=<SumBackward0>)"
      ]
     },
     "execution_count": 52,
     "metadata": {},
     "output_type": "execute_result"
    }
   ],
   "source": [
    "s.backward()\n",
    "s"
   ]
  },
  {
   "cell_type": "code",
   "execution_count": 40,
   "metadata": {
    "id": "gIxgBLfog7lh"
   },
   "outputs": [
    {
     "data": {
      "text/plain": [
       "(tensor([[0.2144, 0.9962, 0.2524, 0.3129],\n",
       "         [0.0325, 0.5885, 0.0330, 0.8060],\n",
       "         [0.2659, 0.0042, 0.4692, 0.1306]], requires_grad=True),\n",
       " tensor([[0.3173, 0.1484, 0.4082, 0.4997, 0.3845],\n",
       "         [0.3403, 0.8317, 0.2661, 0.3067, 0.3620],\n",
       "         [0.3870, 0.1338, 0.0227, 0.7302, 0.8586],\n",
       "         [0.1649, 0.8932, 0.2139, 0.5526, 0.9306]]))"
      ]
     },
     "execution_count": 40,
     "metadata": {},
     "output_type": "execute_result"
    }
   ],
   "source": [
    "a, b"
   ]
  },
  {
   "cell_type": "code",
   "execution_count": 41,
   "metadata": {
    "id": "FxAUa8ELlNy7"
   },
   "outputs": [
    {
     "data": {
      "text/plain": [
       "(tensor([[5.2743, 6.3209, 6.3966, 8.2657],\n",
       "         [5.2743, 6.3209, 6.3966, 8.2657],\n",
       "         [5.2743, 6.3209, 6.3966, 8.2657]]),\n",
       " None)"
      ]
     },
     "execution_count": 41,
     "metadata": {},
     "output_type": "execute_result"
    }
   ],
   "source": [
    "a.grad, b.grad"
   ]
  },
  {
   "cell_type": "code",
   "execution_count": 42,
   "metadata": {},
   "outputs": [
    {
     "data": {
      "text/plain": [
       "tensor(1.)"
      ]
     },
     "execution_count": 42,
     "metadata": {},
     "output_type": "execute_result"
    }
   ],
   "source": [
    "s.grad"
   ]
  },
  {
   "cell_type": "code",
   "execution_count": null,
   "metadata": {
    "id": "vKDYIaO6g7ew"
   },
   "outputs": [],
   "source": [
    "a, b = torch.rand(3, 4, requires_grad=True), torch.rand(4, 5, requires_grad=True)\n",
    "s = (a @ b).sum() \n",
    "s.backward()"
   ]
  },
  {
   "cell_type": "code",
   "execution_count": null,
   "metadata": {
    "id": "V-GnbNbhNoTz"
   },
   "outputs": [],
   "source": [
    "torch.as_tensor([0, 1, 2, 4, 5])"
   ]
  },
  {
   "cell_type": "code",
   "execution_count": null,
   "metadata": {
    "id": "8Dc0UA6JdyoI"
   },
   "outputs": [],
   "source": [
    "a, b"
   ]
  },
  {
   "cell_type": "markdown",
   "metadata": {
    "id": "uEbK0V4gdzIQ"
   },
   "source": [
    "## Neural Network\n",
    "\n",
    "\n",
    "Давайте определим простую ML-задачу и попробуем решить её с помощью нейросети."
   ]
  },
  {
   "cell_type": "code",
   "execution_count": 112,
   "metadata": {
    "id": "6KVruc6ld1RQ"
   },
   "outputs": [],
   "source": [
    "X = torch.rand(1000, 10)\n",
    "w_true = torch.rand(10, 1) * 10\n",
    "b_true = torch.tensor(3.1415926)\n",
    "eps = torch.rand(1000) * 1e-3\n",
    "y = X @ w_true + b_true + eps"
   ]
  },
  {
   "cell_type": "code",
   "execution_count": 113,
   "metadata": {
    "id": "ERwv9hN2hM72"
   },
   "outputs": [],
   "source": [
    "w = torch.rand(10, 1, requires_grad=True)\n",
    "b = torch.rand(1, requires_grad=True)"
   ]
  },
  {
   "cell_type": "code",
   "execution_count": 114,
   "metadata": {
    "id": "4J2mKAmwRWQq"
   },
   "outputs": [],
   "source": [
    "X, y = X.to(\"cpu\"), y.to(\"cpu\")"
   ]
  },
  {
   "cell_type": "code",
   "execution_count": 93,
   "metadata": {
    "id": "P2Mbu5nFhM5w"
   },
   "outputs": [
    {
     "data": {
      "text/plain": [
       "tensor(821.6201, grad_fn=<MeanBackward0>)"
      ]
     },
     "execution_count": 93,
     "metadata": {},
     "output_type": "execute_result"
    }
   ],
   "source": [
    "y_hat = X @ w + b\n",
    "L = ((y - y_hat)**2).mean()\n",
    "L"
   ]
  },
  {
   "cell_type": "code",
   "execution_count": 94,
   "metadata": {
    "id": "7apnG5F6hM3I"
   },
   "outputs": [],
   "source": [
    "L.backward()"
   ]
  },
  {
   "cell_type": "code",
   "execution_count": 95,
   "metadata": {},
   "outputs": [
    {
     "data": {
      "text/plain": [
       "(tensor([[0.8555],\n",
       "         [0.2254],\n",
       "         [0.8497],\n",
       "         [0.2929],\n",
       "         [0.8262],\n",
       "         [0.8470],\n",
       "         [0.1627],\n",
       "         [0.8002],\n",
       "         [0.3274],\n",
       "         [0.0433]], requires_grad=True),\n",
       " tensor([[-29.0707],\n",
       "         [-29.7811],\n",
       "         [-28.9505],\n",
       "         [-28.9953],\n",
       "         [-27.5132],\n",
       "         [-28.5548],\n",
       "         [-28.1267],\n",
       "         [-29.3516],\n",
       "         [-30.5368],\n",
       "         [-29.8530]]),\n",
       " tensor([0.4698], requires_grad=True),\n",
       " tensor([-56.2431]))"
      ]
     },
     "execution_count": 95,
     "metadata": {},
     "output_type": "execute_result"
    }
   ],
   "source": [
    "w, w.grad, b, b.grad"
   ]
  },
  {
   "cell_type": "code",
   "execution_count": 96,
   "metadata": {
    "id": "wWC4Kzk5iPdn"
   },
   "outputs": [
    {
     "data": {
      "text/plain": [
       "(tensor([[1.1462],\n",
       "         [0.5233],\n",
       "         [1.1392],\n",
       "         [0.5829],\n",
       "         [1.1013],\n",
       "         [1.1325],\n",
       "         [0.4440],\n",
       "         [1.0937],\n",
       "         [0.6328],\n",
       "         [0.3418]]),\n",
       " None,\n",
       " tensor([1.0322]),\n",
       " None)"
      ]
     },
     "execution_count": 96,
     "metadata": {},
     "output_type": "execute_result"
    }
   ],
   "source": [
    "lr = 1e-2\n",
    "\n",
    "with torch.inference_mode():\n",
    "    w = w - w.grad * lr\n",
    "    b = b - b.grad * lr\n",
    "    #... # update w, b\n",
    "w, w.grad, b, b.grad"
   ]
  },
  {
   "cell_type": "code",
   "execution_count": 101,
   "metadata": {
    "id": "DxQG7BRriPbi"
   },
   "outputs": [
    {
     "name": "stdout",
     "output_type": "stream",
     "text": [
      "Current Loss: 457.8040771484375\n"
     ]
    }
   ],
   "source": [
    "for idx in range(5000):\n",
    "    y_hat = X @ w + b\n",
    "    L = ((y - y_hat)**2).mean()\n",
    "    L.backward()\n",
    "    with torch.inference_mode():\n",
    "        w -= w - w.grad * lr\n",
    "        b -= b - b.grad * lr\n",
    "\n",
    "    if idx % 100 == 0:\n",
    "        print(f\"Current Loss: {L}\")\n",
    "        "
   ]
  },
  {
   "cell_type": "code",
   "execution_count": null,
   "metadata": {
    "id": "SVrywqFiiPZK"
   },
   "outputs": [],
   "source": [
    "torch.norm(w_true - w), torch.norm(b_true - b)"
   ]
  },
  {
   "cell_type": "code",
   "execution_count": null,
   "metadata": {
    "id": "sk2QyPYnl-pr"
   },
   "outputs": [],
   "source": [
    "w_true.tolist(), w.tolist()"
   ]
  },
  {
   "cell_type": "code",
   "execution_count": null,
   "metadata": {
    "id": "GnpHhM0Dl_xn"
   },
   "outputs": [],
   "source": [
    "b_true, b"
   ]
  },
  {
   "cell_type": "markdown",
   "metadata": {
    "id": "TEbSsU14HRV0"
   },
   "source": [
    "Воспользуемся высокоуровневым способ описывать нейросети в PyTorch:"
   ]
  },
  {
   "cell_type": "code",
   "execution_count": 115,
   "metadata": {
    "id": "JrkdDNsUiPWx"
   },
   "outputs": [],
   "source": [
    "class Linear(torch.nn.Module):\n",
    "    def __init__(self, in_shape, out_shape):\n",
    "        super().__init__()\n",
    "\n",
    "        self.layer = torch.nn.Linear(in_shape, out_shape)\n",
    "    \n",
    "    def forward(self, x):\n",
    "        return self.layer(x)"
   ]
  },
  {
   "cell_type": "code",
   "execution_count": 116,
   "metadata": {
    "id": "Lc1qIzrUjC9l"
   },
   "outputs": [],
   "source": [
    "model = Linear(10, 1)\n",
    "optimizer = torch.optim.SGD(model.parameters(), lr)\n",
    "criterion = torch.nn.MSELoss()"
   ]
  },
  {
   "cell_type": "code",
   "execution_count": 104,
   "metadata": {
    "id": "9G1VRqJXkAf-"
   },
   "outputs": [],
   "source": [
    "#model = model.to(\"cuda\")"
   ]
  },
  {
   "cell_type": "code",
   "execution_count": 121,
   "metadata": {
    "id": "_XKAI45cjC7B"
   },
   "outputs": [
    {
     "name": "stdout",
     "output_type": "stream",
     "text": [
      "Current Loss: 0.0564470998942852\n"
     ]
    }
   ],
   "source": [
    "#X = X.to(\"cuda\")\n",
    "#y = y.to(\"cuda\")\n",
    "\n",
    "for idx in range(100):\n",
    "    y_hat = model(X)\n",
    "    \n",
    "    loss = criterion(y_hat, y)\n",
    "    \n",
    "    optimizer.zero_grad()\n",
    "    loss.backward()\n",
    "    optimizer.step()\n",
    "    \n",
    "    \n",
    "    if idx % 100 == 0:\n",
    "        print(f\"Current Loss: {loss}\")"
   ]
  },
  {
   "cell_type": "code",
   "execution_count": 122,
   "metadata": {
    "id": "Pf8ntqH4jC4d"
   },
   "outputs": [
    {
     "data": {
      "text/plain": [
       "[Parameter containing:\n",
       " tensor([[0.1773, 0.5302, 1.1395, 4.1330, 7.4557, 9.0111, 2.1676, 6.4121, 5.6016,\n",
       "          9.0968]], requires_grad=True),\n",
       " Parameter containing:\n",
       " tensor([4.3844], requires_grad=True)]"
      ]
     },
     "execution_count": 122,
     "metadata": {},
     "output_type": "execute_result"
    }
   ],
   "source": [
    "list(model.parameters())"
   ]
  },
  {
   "cell_type": "code",
   "execution_count": null,
   "metadata": {
    "id": "39ttYnjjhM00"
   },
   "outputs": [],
   "source": [
    "# compare matrices"
   ]
  },
  {
   "cell_type": "markdown",
   "metadata": {
    "id": "C0-CzveSjk2G"
   },
   "source": [
    "## MNIST\n",
    "\n",
    "Перейдем к другой задаче -- распознавании чисел. Загрузим датасет MNIST и напишем нейросеть, которая отличает числа меньше 5 и больше или равно 5."
   ]
  },
  {
   "cell_type": "code",
   "execution_count": 195,
   "metadata": {
    "id": "sOCVUO2hkY94"
   },
   "outputs": [],
   "source": [
    "#!pip install keras\n",
    "#!pip install tensorflow\n",
    "from keras.datasets import mnist\n",
    "import torch\n",
    "import torch.nn as nn\n",
    "\n",
    "\n",
    "(train_X, train_y), (test_X, test_y) = mnist.load_data()"
   ]
  },
  {
   "cell_type": "code",
   "execution_count": 196,
   "metadata": {
    "id": "myaPnuH2kY68"
   },
   "outputs": [
    {
     "name": "stdout",
     "output_type": "stream",
     "text": [
      ". . . . . . . . . . . . . . . . . . . . . . . . . . . .\n",
      ". . . . . . . . . . . . . . . . . . . . . . . . . . . .\n",
      ". . . . . . . . . . . . . . . . . . X X . . . . . . . .\n",
      ". . . . . . . . . . . . . . . . X X X X . . . . . . . .\n",
      ". . . . . . . . . . . . . . . . X X X X . . . . . . . .\n",
      ". . . . . . . . . . . . . . X X X X . . . . . . . . . .\n",
      ". . . . . . . . . . . . . X X X . . . . . . . . . . . .\n",
      ". . . . . . . . . . . . X X X . . . . . . . . . . . . .\n",
      ". . . . . . . . . . X X X X . . . . . . . . . . . . . .\n",
      ". . . . . . . . . . X X X . . . . . . . . . . . . . . .\n",
      ". . . . . . . . . X X X . . . . . . . . . . . . . . . .\n",
      ". . . . . . . . . X X X . . . . . . . . . . . . . . . .\n",
      ". . . . . . . . X X X X . . . . . . . . X . . . . . . .\n",
      ". . . . . . . . X X X . . . . . . . X X X X . . . . . .\n",
      ". . . . . . . . X X X . . . . X X X X X X X . . . . . .\n",
      ". . . . . . . X X X X . . X X X . . . X X X . . . . . .\n",
      ". . . . . . . . X X X X . X X . . . . X X X . . . . . .\n",
      ". . . . . . . . X X X X X X . . . X . X X X . . . . . .\n",
      ". . . . . . . . X X X X X . . . X X X X X . . . . . . .\n",
      ". . . . . . . . . X X X X X X X X X X X . . . . . . . .\n",
      ". . . . . . . . . . X X X X X X X X . . . . . . . . . .\n",
      ". . . . . . . . . . . . X X X X . . . . . . . . . . . .\n",
      ". . . . . . . . . . . . . . . . . . . . . . . . . . . .\n",
      ". . . . . . . . . . . . . . . . . . . . . . . . . . . .\n",
      ". . . . . . . . . . . . . . . . . . . . . . . . . . . .\n",
      ". . . . . . . . . . . . . . . . . . . . . . . . . . . .\n",
      ". . . . . . . . . . . . . . . . . . . . . . . . . . . .\n",
      ". . . . . . . . . . . . . . . . . . . . . . . . . . . .\n"
     ]
    }
   ],
   "source": [
    "print(\"\\n\".join(\" \".join(\"X\" if ch > 128 else \".\" for ch in row) for row in train_X[90].tolist()))"
   ]
  },
  {
   "cell_type": "markdown",
   "metadata": {
    "id": "yneP_GcTHqqu"
   },
   "source": [
    "Создадим датасет для нашей задачи:"
   ]
  },
  {
   "cell_type": "code",
   "execution_count": 197,
   "metadata": {
    "id": "C3QAeIkXWmpO"
   },
   "outputs": [
    {
     "data": {
      "text/plain": [
       "5"
      ]
     },
     "execution_count": 197,
     "metadata": {},
     "output_type": "execute_result"
    }
   ],
   "source": [
    "train_y[0]"
   ]
  },
  {
   "cell_type": "code",
   "execution_count": 198,
   "metadata": {
    "id": "NHUU84lpkY4e"
   },
   "outputs": [],
   "source": [
    "X_train_tensor = torch.as_tensor(train_X) / 255\n",
    "X_test_tensor = torch.as_tensor(test_X) / 255\n",
    "\n",
    "y_train_tensor = torch.as_tensor(train_y < 5) * 1.0\n",
    "y_test_tensor = torch.as_tensor(test_y < 5) * 1.0"
   ]
  },
  {
   "cell_type": "code",
   "execution_count": 199,
   "metadata": {
    "id": "dA6lPSkqS2ry"
   },
   "outputs": [
    {
     "data": {
      "text/plain": [
       "tensor(0.)"
      ]
     },
     "execution_count": 199,
     "metadata": {},
     "output_type": "execute_result"
    }
   ],
   "source": [
    "y_train_tensor[0]"
   ]
  },
  {
   "cell_type": "markdown",
   "metadata": {
    "id": "K8vA1CxvHtMH"
   },
   "source": [
    "Опишем простую двухслойную сеть:"
   ]
  },
  {
   "cell_type": "code",
   "execution_count": 266,
   "metadata": {
    "id": "2DLUdh6YoCyj"
   },
   "outputs": [],
   "source": [
    "class NNClassifier(torch.nn.Module):\n",
    "    def __init__(self):\n",
    "        super().__init__()\n",
    "\n",
    "        self.layer_0 = nn.Linear(28*28, 100)\n",
    "        self.act_0 = nn.Tanh()\n",
    "        self.layer_1 = nn.Linear(100, 1)\n",
    "        self.act_1 = nn.Tanh()\n",
    "    \n",
    "    def forward(self, x):\n",
    "        return self.act_1(self.layer_1(self.act_0(self.layer_0(x))))"
   ]
  },
  {
   "cell_type": "markdown",
   "metadata": {
    "id": "b3-9gDu-HwdK"
   },
   "source": [
    "Напишем для неё Loss-функцию\n",
    "\n",
    "(подсказка: вспомните logistic regression)"
   ]
  },
  {
   "cell_type": "code",
   "execution_count": 267,
   "metadata": {
    "id": "b2OFPYZdoCvd"
   },
   "outputs": [],
   "source": [
    "class NLLLoss(torch.nn.Module):\n",
    "    def __init__(self):\n",
    "        super().__init__()\n",
    "\n",
    "    def forward(self, y_pred, y_true):\n",
    "        return (-(y_true * torch.log(y_pred ) + (1 - y_true) * torch.log(1 - y_pred))).mean()\n"
   ]
  },
  {
   "cell_type": "markdown",
   "metadata": {
    "id": "I8EKfTIEH8Yh"
   },
   "source": [
    "Повторим цикл обучения для новой сети!"
   ]
  },
  {
   "cell_type": "code",
   "execution_count": 268,
   "metadata": {
    "id": "VCBQv2CyH_8G"
   },
   "outputs": [
    {
     "data": {
      "text/plain": [
       "NNClassifier(\n",
       "  (layer_0): Linear(in_features=784, out_features=100, bias=True)\n",
       "  (act_0): Tanh()\n",
       "  (layer_1): Linear(in_features=100, out_features=1, bias=True)\n",
       "  (act_1): Tanh()\n",
       ")"
      ]
     },
     "execution_count": 268,
     "metadata": {},
     "output_type": "execute_result"
    }
   ],
   "source": [
    "model = NNClassifier()\n",
    "criterion = nn.NLLLoss()\n",
    "optimizer = torch.optim.SGD(model.parameters(), lr = 1e-3)\n",
    "\n",
    "#model.to(\"cuda\")\n",
    "model"
   ]
  },
  {
   "cell_type": "code",
   "execution_count": null,
   "metadata": {
    "id": "dHB3PW6okYwr"
   },
   "outputs": [],
   "source": [
    "# create train loop"
   ]
  },
  {
   "cell_type": "code",
   "execution_count": 269,
   "metadata": {},
   "outputs": [
    {
     "data": {
      "text/plain": [
       "tensor([[ 0.0647],\n",
       "        [ 0.0811],\n",
       "        [ 0.1420],\n",
       "        [ 0.0708],\n",
       "        [ 0.2041],\n",
       "        [ 0.0976],\n",
       "        [ 0.0355],\n",
       "        [-0.0449],\n",
       "        [ 0.0541],\n",
       "        [ 0.0051]], grad_fn=<TanhBackward0>)"
      ]
     },
     "execution_count": 269,
     "metadata": {},
     "output_type": "execute_result"
    }
   ],
   "source": [
    "y_hat = model(X_train_tensor[:10].reshape(10,-1))\n",
    "y_hat"
   ]
  },
  {
   "cell_type": "code",
   "execution_count": 270,
   "metadata": {},
   "outputs": [
    {
     "data": {
      "text/plain": [
       "tensor([0., 1., 1., 1., 0., 1., 1., 1., 1., 1.])"
      ]
     },
     "execution_count": 270,
     "metadata": {},
     "output_type": "execute_result"
    }
   ],
   "source": [
    "y_train_tensor[:10]"
   ]
  },
  {
   "cell_type": "code",
   "execution_count": 271,
   "metadata": {},
   "outputs": [
    {
     "data": {
      "text/plain": [
       "(torch.Size([10]), torch.Size([10]))"
      ]
     },
     "execution_count": 271,
     "metadata": {},
     "output_type": "execute_result"
    }
   ],
   "source": [
    "y_hat[:,0].shape, y_train_tensor[:10].shape"
   ]
  },
  {
   "cell_type": "code",
   "execution_count": 272,
   "metadata": {},
   "outputs": [
    {
     "data": {
      "text/plain": [
       "tensor(-0.0647, grad_fn=<NllLossBackward0>)"
      ]
     },
     "execution_count": 272,
     "metadata": {},
     "output_type": "execute_result"
    }
   ],
   "source": [
    "criterion(y_hat[:, 0], y_train_tensor[:10].type(torch.long))"
   ]
  },
  {
   "cell_type": "code",
   "execution_count": 273,
   "metadata": {
    "id": "E4WU5T-mX4gD"
   },
   "outputs": [
    {
     "name": "stdout",
     "output_type": "stream",
     "text": [
      "Current Loss: -0.06473998725414276\n"
     ]
    }
   ],
   "source": [
    "for idx in range(50000):\n",
    "    y_hat = model(X_train_tensor[:10000].reshape(10000, -1))\n",
    "    L = criterion(y_hat[:, 0],  y_train_tensor[:10000].type(torch.long))\n",
    "    L.backward()\n",
    "    optimizer.step()\n",
    "    optimizer.zero_grad()\n",
    "    if idx % 100 == 0:\n",
    "        print(f\"Current Loss: {L}\")\n",
    "    break"
   ]
  }
 ],
 "metadata": {
  "accelerator": "GPU",
  "colab": {
   "private_outputs": true,
   "provenance": []
  },
  "kernelspec": {
   "display_name": "Python 3 (ipykernel)",
   "language": "python",
   "name": "python3"
  },
  "language_info": {
   "codemirror_mode": {
    "name": "ipython",
    "version": 3
   },
   "file_extension": ".py",
   "mimetype": "text/x-python",
   "name": "python",
   "nbconvert_exporter": "python",
   "pygments_lexer": "ipython3",
   "version": "3.10.6"
  }
 },
 "nbformat": 4,
 "nbformat_minor": 1
}

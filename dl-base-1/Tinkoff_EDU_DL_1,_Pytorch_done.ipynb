{
 "cells": [
  {
   "cell_type": "markdown",
   "metadata": {
    "id": "dvJF3LdX14D8"
   },
   "source": [
    "# DL 1, Pytorch\n",
    "\n",
    "Привет! На этом занятии мы познакомимся с PyTorch, с работой gpu и получением градиентов. В конце попробуем написать нейросеть для распознавания чисел.\n",
    "\n",
    "**Для этого ноутбука надо включить GPU runtime**."
   ]
  },
  {
   "cell_type": "code",
   "execution_count": null,
   "metadata": {
    "id": "XqljkY_O1zpw"
   },
   "outputs": [],
   "source": [
    "import torch"
   ]
  },
  {
   "cell_type": "code",
   "execution_count": null,
   "metadata": {
    "id": "Olvn23cbfr2K"
   },
   "outputs": [],
   "source": [
    "torch.sqrt()"
   ]
  },
  {
   "cell_type": "code",
   "execution_count": null,
   "metadata": {
    "id": "-Jvt70gEfuWP"
   },
   "outputs": [],
   "source": [
    "torch.*Tensor?"
   ]
  },
  {
   "cell_type": "markdown",
   "metadata": {
    "id": "1fYFEF-YdsDk"
   },
   "source": [
    "## Simple Pytorch\n",
    "\n",
    "Изучим простые методы pytorch. Они сильно напоминают numpy, и часто можно использовать имя метода из numpy в pytorch."
   ]
  },
  {
   "cell_type": "code",
   "execution_count": null,
   "metadata": {
    "id": "3pdULuNOdvf3"
   },
   "outputs": [],
   "source": [
    "t = torch.Tensor(2, 3, 4)"
   ]
  },
  {
   "cell_type": "code",
   "execution_count": null,
   "metadata": {
    "id": "hFro0BDJfy02"
   },
   "outputs": [],
   "source": [
    "t"
   ]
  },
  {
   "cell_type": "code",
   "execution_count": null,
   "metadata": {
    "id": "XBMn76hUfzVW"
   },
   "outputs": [],
   "source": [
    "t.size(0)"
   ]
  },
  {
   "cell_type": "code",
   "execution_count": null,
   "metadata": {
    "id": "-dY_xn5rf0JG"
   },
   "outputs": [],
   "source": [
    "t.random_(10)\n",
    "t"
   ]
  },
  {
   "cell_type": "code",
   "execution_count": null,
   "metadata": {
    "id": "9Ma00mgQf3Co"
   },
   "outputs": [],
   "source": [
    "t = torch.zeros_like(t)\n",
    "t"
   ]
  },
  {
   "cell_type": "code",
   "execution_count": null,
   "metadata": {
    "id": "_gjr2qr5KjiT"
   },
   "outputs": [],
   "source": [
    "t = torch.rand(2, 3, 4)\n",
    "t"
   ]
  },
  {
   "cell_type": "code",
   "execution_count": null,
   "metadata": {
    "id": "H5HvhP7ef5d9"
   },
   "outputs": [],
   "source": [
    "r = torch.Tensor(t)\n",
    "r.resize_(3, 5)\n",
    "r"
   ]
  },
  {
   "cell_type": "code",
   "execution_count": null,
   "metadata": {
    "id": "gAaTs5WYQR7T"
   },
   "outputs": [],
   "source": [
    "r.reshape(-1)"
   ]
  },
  {
   "cell_type": "code",
   "execution_count": null,
   "metadata": {
    "id": "_hepEf6yf_E-"
   },
   "outputs": [],
   "source": [
    "a, b = torch.rand(1, 4), torch.rand(1, 4)\n",
    "a + b"
   ]
  },
  {
   "cell_type": "code",
   "execution_count": null,
   "metadata": {
    "id": "rHjZsU0Jf-_I"
   },
   "outputs": [],
   "source": [
    "a * b"
   ]
  },
  {
   "cell_type": "code",
   "execution_count": null,
   "metadata": {
    "id": "0D4AvhhxgIxM"
   },
   "outputs": [],
   "source": [
    "a @ b.T"
   ]
  },
  {
   "cell_type": "code",
   "execution_count": null,
   "metadata": {
    "id": "Q6dUncd_gFJZ"
   },
   "outputs": [],
   "source": [
    "a, b = torch.rand(3, 4), torch.rand(4, 5)\n",
    "a @ b"
   ]
  },
  {
   "cell_type": "code",
   "execution_count": null,
   "metadata": {
    "id": "lrT82PNbgNOR"
   },
   "outputs": [],
   "source": [
    "a.norm(), b.sum() # np.linalg.norm"
   ]
  },
  {
   "cell_type": "code",
   "execution_count": null,
   "metadata": {
    "id": "OksfVxSEgNLJ"
   },
   "outputs": [],
   "source": [
    "a / 10"
   ]
  },
  {
   "cell_type": "code",
   "execution_count": null,
   "metadata": {
    "id": "WfKZDjg7gQK0"
   },
   "outputs": [],
   "source": [
    "torch.Tensor(3, 4, 5, 2).transpose(0, 2).shape"
   ]
  },
  {
   "cell_type": "code",
   "execution_count": null,
   "metadata": {
    "id": "A84GkrjhgTon"
   },
   "outputs": [],
   "source": [
    "t = torch.arange(10)\n",
    "t, t.dtype"
   ]
  },
  {
   "cell_type": "code",
   "execution_count": null,
   "metadata": {
    "id": "n7X8sbPngFGy"
   },
   "outputs": [],
   "source": [
    "t = t.to(torch.float32)\n",
    "t, t.dtype"
   ]
  },
  {
   "cell_type": "markdown",
   "metadata": {
    "id": "ukSy1lzRdv0n"
   },
   "source": [
    "## Autograd & GPU\n",
    "\n",
    "Теперь поработаем с GPU и получением градиентов."
   ]
  },
  {
   "cell_type": "code",
   "execution_count": null,
   "metadata": {
    "id": "kk68iAR4goGI"
   },
   "outputs": [],
   "source": [
    "a, b = torch.rand(3, 4), torch.rand(4, 5)\n",
    "a, b"
   ]
  },
  {
   "cell_type": "code",
   "execution_count": null,
   "metadata": {
    "id": "-F8BODC7goCt"
   },
   "outputs": [],
   "source": [
    "a = a.to(\"cuda\")"
   ]
  },
  {
   "cell_type": "code",
   "execution_count": null,
   "metadata": {
    "id": "3_lSPQ13Q9rA"
   },
   "outputs": [],
   "source": [
    "!nvidia-smi"
   ]
  },
  {
   "cell_type": "code",
   "execution_count": null,
   "metadata": {
    "id": "uFmzJK65gxT3"
   },
   "outputs": [],
   "source": [
    "a @ b"
   ]
  },
  {
   "cell_type": "code",
   "execution_count": null,
   "metadata": {
    "id": "YHC6MhPFgxDI"
   },
   "outputs": [],
   "source": [
    "b = b.to(\"cuda\")"
   ]
  },
  {
   "cell_type": "code",
   "execution_count": null,
   "metadata": {
    "id": "H-aQgbxJgw3c"
   },
   "outputs": [],
   "source": [
    "a @ b"
   ]
  },
  {
   "cell_type": "code",
   "execution_count": null,
   "metadata": {
    "id": "BZxwaSy8Rodp"
   },
   "outputs": [],
   "source": [
    "t.device"
   ]
  },
  {
   "cell_type": "code",
   "execution_count": null,
   "metadata": {
    "id": "GgnHYuYAgn_f"
   },
   "outputs": [],
   "source": [
    "a.requires_grad_(True)\n",
    "\n",
    "s = (a @ b).sum()\n",
    "s"
   ]
  },
  {
   "cell_type": "code",
   "execution_count": null,
   "metadata": {
    "id": "aV6G1POsSUeN"
   },
   "outputs": [],
   "source": [
    "h = a @ b"
   ]
  },
  {
   "cell_type": "code",
   "execution_count": null,
   "metadata": {
    "id": "J9V0ca6OS1wD"
   },
   "outputs": [],
   "source": [
    "h.backward()"
   ]
  },
  {
   "cell_type": "code",
   "execution_count": null,
   "metadata": {
    "id": "IKzKB1H4Sj64"
   },
   "outputs": [],
   "source": [
    "h, s"
   ]
  },
  {
   "cell_type": "code",
   "execution_count": null,
   "metadata": {
    "id": "nEvvY76Dg7oB"
   },
   "outputs": [],
   "source": [
    "s.backward()\n",
    "s"
   ]
  },
  {
   "cell_type": "code",
   "execution_count": null,
   "metadata": {
    "id": "ihUh1N8xSyTg"
   },
   "outputs": [],
   "source": [
    "s.size()"
   ]
  },
  {
   "cell_type": "code",
   "execution_count": null,
   "metadata": {
    "id": "YI5vlRRrSeRR"
   },
   "outputs": [],
   "source": [
    "h.grad"
   ]
  },
  {
   "cell_type": "code",
   "execution_count": null,
   "metadata": {
    "id": "gIxgBLfog7lh"
   },
   "outputs": [],
   "source": [
    "a, b"
   ]
  },
  {
   "cell_type": "code",
   "execution_count": null,
   "metadata": {
    "id": "FxAUa8ELlNy7"
   },
   "outputs": [],
   "source": [
    "a.grad, b.grad"
   ]
  },
  {
   "cell_type": "code",
   "execution_count": null,
   "metadata": {
    "id": "vKDYIaO6g7ew"
   },
   "outputs": [],
   "source": [
    "a, b = torch.rand(3, 4, requires_grad=True), torch.rand(4, 5, requires_grad=True)\n",
    "s = (a @ b).sum() \n",
    "s.backward()"
   ]
  },
  {
   "cell_type": "code",
   "execution_count": null,
   "metadata": {
    "id": "8Dc0UA6JdyoI"
   },
   "outputs": [],
   "source": [
    "a, b"
   ]
  },
  {
   "cell_type": "code",
   "execution_count": null,
   "metadata": {
    "id": "QeQGZCKaTgWB"
   },
   "outputs": [],
   "source": [
    "a.grad, b.grad"
   ]
  },
  {
   "cell_type": "markdown",
   "metadata": {
    "id": "uEbK0V4gdzIQ"
   },
   "source": [
    "## Neural Network\n",
    "\n",
    "\n",
    "Давайте определим простую ML-задачу и попробуем решить её с помощью нейросети."
   ]
  },
  {
   "cell_type": "code",
   "execution_count": null,
   "metadata": {
    "id": "6KVruc6ld1RQ"
   },
   "outputs": [],
   "source": [
    "X = torch.rand(1000, 10)\n",
    "w_true = torch.rand(10, 1) * 10\n",
    "b_true = torch.tensor(3.1415926)\n",
    "eps = torch.rand(1000) * 1e-3\n",
    "y = X @ w_true + b_true + eps"
   ]
  },
  {
   "cell_type": "code",
   "execution_count": null,
   "metadata": {
    "id": "ERwv9hN2hM72"
   },
   "outputs": [],
   "source": [
    "w = torch.rand(10, 1, requires_grad=True)\n",
    "b = torch.rand(1, requires_grad=True)"
   ]
  },
  {
   "cell_type": "code",
   "execution_count": null,
   "metadata": {
    "id": "fbmcSE0qVIlk"
   },
   "outputs": [],
   "source": [
    "#  .... = .. + ...\n",
    "#  .... += .... -- DONOTDO"
   ]
  },
  {
   "cell_type": "code",
   "execution_count": null,
   "metadata": {
    "id": "P2Mbu5nFhM5w"
   },
   "outputs": [],
   "source": [
    "y_hat = X @ w + b\n",
    "y_hat += X@w\n",
    "L = ((y - y_hat) ** 2).mean()\n",
    "L"
   ]
  },
  {
   "cell_type": "code",
   "execution_count": null,
   "metadata": {
    "id": "7apnG5F6hM3I"
   },
   "outputs": [],
   "source": [
    "L.backward()"
   ]
  },
  {
   "cell_type": "code",
   "execution_count": null,
   "metadata": {
    "id": "TMWDqYtTUOZ9"
   },
   "outputs": [],
   "source": [
    "w, w.grad"
   ]
  },
  {
   "cell_type": "code",
   "execution_count": null,
   "metadata": {
    "id": "wWC4Kzk5iPdn"
   },
   "outputs": [],
   "source": [
    "lr = 1e-2\n",
    "\n",
    "with torch.inference_mode():\n",
    "    w = w + w.grad * lr\n",
    "    b -= b.grad * lr\n",
    "\n",
    "    w.grad = None\n",
    "    b.grad = None"
   ]
  },
  {
   "cell_type": "code",
   "execution_count": null,
   "metadata": {
    "id": "koBEEiuMXV6R"
   },
   "outputs": [],
   "source": [
    "w, b"
   ]
  },
  {
   "cell_type": "code",
   "execution_count": null,
   "metadata": {
    "id": "DxQG7BRriPbi"
   },
   "outputs": [],
   "source": [
    "for idx in range(5000):\n",
    "    y_hat = X.to(\"cpu\") @ w + b\n",
    "    L = ((y_hat - y.to(\"cpu\")) ** 2).mean()\n",
    "    L.backward()\n",
    "    with torch.inference_mode():\n",
    "        w -= w.grad * lr\n",
    "        b -= b.grad * lr\n",
    "        w.grad = None\n",
    "        b.grad = None\n",
    "    if idx % 100 == 0:\n",
    "        print(f\"Current Loss: {L}\")"
   ]
  },
  {
   "cell_type": "code",
   "execution_count": null,
   "metadata": {
    "id": "SVrywqFiiPZK"
   },
   "outputs": [],
   "source": [
    "torch.norm(w_true - w), torch.norm(b_true - b)"
   ]
  },
  {
   "cell_type": "code",
   "execution_count": null,
   "metadata": {
    "id": "sk2QyPYnl-pr"
   },
   "outputs": [],
   "source": [
    "w_true.tolist(), w.tolist()"
   ]
  },
  {
   "cell_type": "code",
   "execution_count": null,
   "metadata": {
    "id": "GnpHhM0Dl_xn"
   },
   "outputs": [],
   "source": [
    "b_true, b"
   ]
  },
  {
   "cell_type": "markdown",
   "metadata": {
    "id": "TEbSsU14HRV0"
   },
   "source": [
    "Воспользуемся высокоуровневым способ описывать нейросети в PyTorch:"
   ]
  },
  {
   "cell_type": "code",
   "execution_count": null,
   "metadata": {
    "id": "JrkdDNsUiPWx"
   },
   "outputs": [],
   "source": [
    "class Linear(torch.nn.Module):\n",
    "    def __init__(self, in_shape, out_shape):\n",
    "        super().__init__()\n",
    "\n",
    "        self.layer = torch.nn.Linear(in_shape, out_shape)\n",
    "    \n",
    "    def forward(self, x):\n",
    "        return self.layer(x)"
   ]
  },
  {
   "cell_type": "code",
   "execution_count": null,
   "metadata": {
    "id": "Lc1qIzrUjC9l"
   },
   "outputs": [],
   "source": [
    "model = Linear(10, 1)\n",
    "optimizer = torch.optim.SGD(model.parameters(), lr)\n",
    "criterion = torch.nn.MSELoss()"
   ]
  },
  {
   "cell_type": "code",
   "execution_count": null,
   "metadata": {
    "id": "b1NopsFBWJlb"
   },
   "outputs": [],
   "source": [
    "model.layer.weight"
   ]
  },
  {
   "cell_type": "code",
   "execution_count": null,
   "metadata": {
    "id": "9G1VRqJXkAf-"
   },
   "outputs": [],
   "source": [
    "model.to(\"cuda\")\n",
    "model.layer.weight"
   ]
  },
  {
   "cell_type": "code",
   "execution_count": null,
   "metadata": {
    "id": "_XKAI45cjC7B"
   },
   "outputs": [],
   "source": [
    "X = X.to(\"cuda\")\n",
    "y = y.to(\"cuda\")\n",
    "\n",
    "for idx in range(5000):\n",
    "    y_hat = model(X)\n",
    "    L = criterion(y_hat, y)\n",
    "    L.backward()\n",
    "    optimizer.step()\n",
    "    optimizer.zero_grad()\n",
    "    if idx % 100 == 0:\n",
    "        print(f\"Current Loss: {L}\")"
   ]
  },
  {
   "cell_type": "code",
   "execution_count": null,
   "metadata": {
    "id": "Pf8ntqH4jC4d"
   },
   "outputs": [],
   "source": [
    "list(model.parameters())"
   ]
  },
  {
   "cell_type": "code",
   "execution_count": null,
   "metadata": {
    "id": "39ttYnjjhM00"
   },
   "outputs": [],
   "source": [
    "# compare matrices"
   ]
  },
  {
   "cell_type": "markdown",
   "metadata": {
    "id": "C0-CzveSjk2G"
   },
   "source": [
    "## MNIST\n",
    "\n",
    "Перейдем к другой задаче -- распознавании чисел. Загрузим датасет MNIST и напишем нейросеть, которая отличает числа меньше 5 и больше или равно 5."
   ]
  },
  {
   "cell_type": "code",
   "execution_count": 1,
   "metadata": {
    "id": "sOCVUO2hkY94"
   },
   "outputs": [],
   "source": [
    "from keras.datasets import mnist\n",
    "import torch\n",
    "\n",
    "\n",
    "(train_X, train_y), (test_X, test_y) = mnist.load_data()"
   ]
  },
  {
   "cell_type": "code",
   "execution_count": 2,
   "metadata": {
    "id": "myaPnuH2kY68"
   },
   "outputs": [
    {
     "name": "stdout",
     "output_type": "stream",
     "text": [
      ". . . . . . . . . . . . . . . . . . . . . . . . . . . .\n",
      ". . . . . . . . . . . . . . . . . . . . . . . . . . . .\n",
      ". . . . . . . . . . . . . . . . . . X X . . . . . . . .\n",
      ". . . . . . . . . . . . . . . . X X X X . . . . . . . .\n",
      ". . . . . . . . . . . . . . . . X X X X . . . . . . . .\n",
      ". . . . . . . . . . . . . . X X X X . . . . . . . . . .\n",
      ". . . . . . . . . . . . . X X X . . . . . . . . . . . .\n",
      ". . . . . . . . . . . . X X X . . . . . . . . . . . . .\n",
      ". . . . . . . . . . X X X X . . . . . . . . . . . . . .\n",
      ". . . . . . . . . . X X X . . . . . . . . . . . . . . .\n",
      ". . . . . . . . . X X X . . . . . . . . . . . . . . . .\n",
      ". . . . . . . . . X X X . . . . . . . . . . . . . . . .\n",
      ". . . . . . . . X X X X . . . . . . . . X . . . . . . .\n",
      ". . . . . . . . X X X . . . . . . . X X X X . . . . . .\n",
      ". . . . . . . . X X X . . . . X X X X X X X . . . . . .\n",
      ". . . . . . . X X X X . . X X X . . . X X X . . . . . .\n",
      ". . . . . . . . X X X X . X X . . . . X X X . . . . . .\n",
      ". . . . . . . . X X X X X X . . . X . X X X . . . . . .\n",
      ". . . . . . . . X X X X X . . . X X X X X . . . . . . .\n",
      ". . . . . . . . . X X X X X X X X X X X . . . . . . . .\n",
      ". . . . . . . . . . X X X X X X X X . . . . . . . . . .\n",
      ". . . . . . . . . . . . X X X X . . . . . . . . . . . .\n",
      ". . . . . . . . . . . . . . . . . . . . . . . . . . . .\n",
      ". . . . . . . . . . . . . . . . . . . . . . . . . . . .\n",
      ". . . . . . . . . . . . . . . . . . . . . . . . . . . .\n",
      ". . . . . . . . . . . . . . . . . . . . . . . . . . . .\n",
      ". . . . . . . . . . . . . . . . . . . . . . . . . . . .\n",
      ". . . . . . . . . . . . . . . . . . . . . . . . . . . .\n"
     ]
    }
   ],
   "source": [
    "print(\"\\n\".join(\" \".join(\"X\" if ch > 128 else \".\" for ch in row) for row in train_X[90].tolist()))"
   ]
  },
  {
   "cell_type": "code",
   "execution_count": 3,
   "metadata": {
    "id": "4W61W_a8YZOH"
   },
   "outputs": [
    {
     "data": {
      "text/plain": [
       "(28, 28)"
      ]
     },
     "execution_count": 3,
     "metadata": {},
     "output_type": "execute_result"
    }
   ],
   "source": [
    "train_X[0].shape"
   ]
  },
  {
   "cell_type": "markdown",
   "metadata": {
    "id": "yneP_GcTHqqu"
   },
   "source": [
    "Создадим датасет для нашей задачи:"
   ]
  },
  {
   "cell_type": "code",
   "execution_count": 4,
   "metadata": {
    "id": "C3QAeIkXWmpO"
   },
   "outputs": [
    {
     "data": {
      "text/plain": [
       "5"
      ]
     },
     "execution_count": 4,
     "metadata": {},
     "output_type": "execute_result"
    }
   ],
   "source": [
    "train_y[0]"
   ]
  },
  {
   "cell_type": "code",
   "execution_count": 6,
   "metadata": {
    "id": "NHUU84lpkY4e"
   },
   "outputs": [],
   "source": [
    "X_train_tensor = torch.as_tensor(train_X) / 255\n",
    "X_test_tensor = torch.as_tensor(test_X) / 255\n",
    "\n",
    "y_train_tensor = torch.as_tensor(train_y < 5) * 1.0\n",
    "y_test_tensor = torch.as_tensor(test_y < 5) * 1.0"
   ]
  },
  {
   "cell_type": "code",
   "execution_count": 7,
   "metadata": {
    "id": "dA6lPSkqS2ry"
   },
   "outputs": [
    {
     "data": {
      "text/plain": [
       "tensor(0.)"
      ]
     },
     "execution_count": 7,
     "metadata": {},
     "output_type": "execute_result"
    }
   ],
   "source": [
    "y_train_tensor[0]"
   ]
  },
  {
   "cell_type": "markdown",
   "metadata": {
    "id": "K8vA1CxvHtMH"
   },
   "source": [
    "Опишем простую двухслойную сеть:"
   ]
  },
  {
   "cell_type": "code",
   "execution_count": 8,
   "metadata": {
    "id": "yps5yXFSYqUB"
   },
   "outputs": [],
   "source": [
    "torch.nn.Linear?"
   ]
  },
  {
   "cell_type": "code",
   "execution_count": 9,
   "metadata": {
    "id": "2DLUdh6YoCyj"
   },
   "outputs": [],
   "source": [
    "class NNClassifier(torch.nn.Module):\n",
    "    def __init__(self):\n",
    "        super().__init__()\n",
    "\n",
    "        self.layer_0 = torch.nn.Linear(28*28, 100)\n",
    "        self.act_0 = torch.nn.Tanh()\n",
    "        self.layer_1 = torch.nn.Linear(100, 1)\n",
    "        self.act_1 = torch.nn.Sigmoid()\n",
    "    \n",
    "    def forward(self, x):\n",
    "        return self.act_1(self.layer_1(self.act_0(self.layer_0(x))))"
   ]
  },
  {
   "cell_type": "markdown",
   "metadata": {
    "id": "b3-9gDu-HwdK"
   },
   "source": [
    "Напишем для неё Loss-функцию\n",
    "\n",
    "(подсказка: вспомните logistic regression)"
   ]
  },
  {
   "cell_type": "code",
   "execution_count": 10,
   "metadata": {
    "id": "b2OFPYZdoCvd"
   },
   "outputs": [],
   "source": [
    "class NLLLoss(torch.nn.Module):\n",
    "    def __init__(self):\n",
    "        super().__init__()\n",
    "\n",
    "    def forward(self, y_pred, y_true):\n",
    "        return (-(y_true * torch.log(y_pred ) + (1 - y_true) * torch.log(1 - y_pred))).mean()"
   ]
  },
  {
   "cell_type": "markdown",
   "metadata": {
    "id": "I8EKfTIEH8Yh"
   },
   "source": [
    "Повторим цикл обучения для новой сети!"
   ]
  },
  {
   "cell_type": "code",
   "execution_count": 12,
   "metadata": {
    "id": "VCBQv2CyH_8G"
   },
   "outputs": [
    {
     "data": {
      "text/plain": [
       "NNClassifier(\n",
       "  (layer_0): Linear(in_features=784, out_features=100, bias=True)\n",
       "  (act_0): Tanh()\n",
       "  (layer_1): Linear(in_features=100, out_features=1, bias=True)\n",
       "  (act_1): Sigmoid()\n",
       ")"
      ]
     },
     "execution_count": 12,
     "metadata": {},
     "output_type": "execute_result"
    }
   ],
   "source": [
    "model = NNClassifier()\n",
    "criterion = NLLLoss()\n",
    "optimizer = torch.optim.SGD(model.parameters(), lr=1)\n",
    "\n",
    "model"
   ]
  },
  {
   "cell_type": "code",
   "execution_count": 13,
   "metadata": {
    "id": "eHH4deoRZf_L"
   },
   "outputs": [
    {
     "data": {
      "text/plain": [
       "tensor([[0.4907],\n",
       "        [0.5019],\n",
       "        [0.5106],\n",
       "        [0.4836],\n",
       "        [0.5218],\n",
       "        [0.5381],\n",
       "        [0.4761],\n",
       "        [0.4797],\n",
       "        [0.4929],\n",
       "        [0.4680]], grad_fn=<SigmoidBackward0>)"
      ]
     },
     "execution_count": 13,
     "metadata": {},
     "output_type": "execute_result"
    }
   ],
   "source": [
    "y_hat = model(X_train_tensor[:10].reshape(10, -1))\n",
    "y_hat"
   ]
  },
  {
   "cell_type": "code",
   "execution_count": 14,
   "metadata": {
    "id": "UUq-h5fHZ4iz"
   },
   "outputs": [
    {
     "data": {
      "text/plain": [
       "(torch.Size([10, 1]), torch.Size([10]))"
      ]
     },
     "execution_count": 14,
     "metadata": {},
     "output_type": "execute_result"
    }
   ],
   "source": [
    "y_hat.size(), y_train_tensor[:10].size()"
   ]
  },
  {
   "cell_type": "code",
   "execution_count": 15,
   "metadata": {
    "id": "vENApf5kZsN9"
   },
   "outputs": [
    {
     "data": {
      "text/plain": [
       "tensor(0.7064, grad_fn=<MeanBackward0>)"
      ]
     },
     "execution_count": 15,
     "metadata": {},
     "output_type": "execute_result"
    }
   ],
   "source": [
    "criterion(y_hat[:, 0], y_train_tensor[:10])"
   ]
  },
  {
   "cell_type": "code",
   "execution_count": null,
   "metadata": {
    "id": "yxlR6nTFZsIb"
   },
   "outputs": [],
   "source": []
  },
  {
   "cell_type": "code",
   "execution_count": 19,
   "metadata": {
    "id": "dHB3PW6okYwr"
   },
   "outputs": [],
   "source": [
    "for idx in range(50000):\n",
    "    y_hat = model(X_train_tensor[:10000].reshape(10000, -1))\n",
    "    L = criterion(y_hat, y_train_tensor[:10000])\n",
    "#     L.backward()\n",
    "#     optimizer.step()\n",
    "#     optimizer.zero_grad()\n",
    "#     if idx % 100 == 0:\n",
    "#         print(f\"Current Loss: {L}\")\n",
    "    break"
   ]
  },
  {
   "cell_type": "markdown",
   "metadata": {
    "id": "KbXkQRkEN43T"
   },
   "source": []
  },
  {
   "cell_type": "code",
   "execution_count": null,
   "metadata": {
    "id": "E4WU5T-mX4gD"
   },
   "outputs": [],
   "source": []
  }
 ],
 "metadata": {
  "accelerator": "GPU",
  "colab": {
   "private_outputs": true,
   "provenance": []
  },
  "gpuClass": "standard",
  "kernelspec": {
   "display_name": "Python 3 (ipykernel)",
   "language": "python",
   "name": "python3"
  },
  "language_info": {
   "codemirror_mode": {
    "name": "ipython",
    "version": 3
   },
   "file_extension": ".py",
   "mimetype": "text/x-python",
   "name": "python",
   "nbconvert_exporter": "python",
   "pygments_lexer": "ipython3",
   "version": "3.10.6"
  }
 },
 "nbformat": 4,
 "nbformat_minor": 1
}

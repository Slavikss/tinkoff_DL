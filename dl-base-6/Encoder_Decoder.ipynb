{
  "nbformat": 4,
  "nbformat_minor": 0,
  "metadata": {
    "colab": {
      "private_outputs": true,
      "provenance": []
    },
    "kernelspec": {
      "name": "python3",
      "display_name": "Python 3"
    },
    "language_info": {
      "name": "python"
    }
  },
  "cells": [
    {
      "cell_type": "code",
      "source": [
        "!pip install datasets"
      ],
      "metadata": {
        "id": "Vr8y4W8LS_NG"
      },
      "execution_count": null,
      "outputs": []
    },
    {
      "cell_type": "markdown",
      "source": [
        "# Encoder and Decoder\n",
        "\n",
        "# Перерыв до 19:40\n",
        "\n",
        "Всем привет! В этом занятии мы обсудим две главные архитектуры в текстовых данных Encoder и Decoder"
      ],
      "metadata": {
        "id": "_0bx7vN1ROBg"
      }
    },
    {
      "cell_type": "code",
      "execution_count": null,
      "metadata": {
        "id": "H5fGtk0rRGgp"
      },
      "outputs": [],
      "source": [
        "import torch\n",
        "import nltk\n",
        "import torchvision\n",
        "import datasets"
      ]
    },
    {
      "cell_type": "markdown",
      "source": [
        "## Encoder. Task: Part-of-Speach"
      ],
      "metadata": {
        "id": "8_x6DVSyRXtN"
      }
    },
    {
      "cell_type": "code",
      "source": [
        "# example of dataset (https://huggingface.co/datasets/conll2003)"
      ],
      "metadata": {
        "id": "hGCgvpC4RdRH"
      },
      "execution_count": null,
      "outputs": []
    },
    {
      "cell_type": "code",
      "source": [
        "conll_dataset = datasets.load_dataset(\"conll2003\")"
      ],
      "metadata": {
        "id": "KGAxCj-hLNpf"
      },
      "execution_count": null,
      "outputs": []
    },
    {
      "cell_type": "code",
      "source": [
        "conll_dataset"
      ],
      "metadata": {
        "id": "w-mnZOiTLWEG"
      },
      "execution_count": null,
      "outputs": []
    },
    {
      "cell_type": "code",
      "source": [],
      "metadata": {
        "id": "4-fJsCRbLmoE"
      },
      "execution_count": null,
      "outputs": []
    },
    {
      "cell_type": "code",
      "source": [
        "# get num of tags, words"
      ],
      "metadata": {
        "id": "EN9cyZPsLyxi"
      },
      "execution_count": null,
      "outputs": []
    },
    {
      "cell_type": "code",
      "source": [],
      "metadata": {
        "id": "z00roBhmLmff"
      },
      "execution_count": null,
      "outputs": []
    },
    {
      "cell_type": "code",
      "source": [
        "# example with nltk (https://www.nltk.org/book/ch05.html)"
      ],
      "metadata": {
        "id": "zamzTAXcRbx-"
      },
      "execution_count": null,
      "outputs": []
    },
    {
      "cell_type": "code",
      "source": [
        "text = \"I am fine...\"\n",
        "nltk.pos_tag(text)"
      ],
      "metadata": {
        "id": "ikqbEY01Lakj"
      },
      "execution_count": null,
      "outputs": []
    },
    {
      "cell_type": "code",
      "source": [
        "# try with validation part"
      ],
      "metadata": {
        "id": "v_rrg5h5Laid"
      },
      "execution_count": null,
      "outputs": []
    },
    {
      "cell_type": "code",
      "source": [],
      "metadata": {
        "id": "cnp0AzkALaf1"
      },
      "execution_count": null,
      "outputs": []
    },
    {
      "cell_type": "code",
      "source": [
        "# create Dataset and Dataloader out of conll"
      ],
      "metadata": {
        "id": "F_TYYhuhLadM"
      },
      "execution_count": null,
      "outputs": []
    },
    {
      "cell_type": "code",
      "source": [
        "class ConllDataset(torch.utils.data.Dataset):\n",
        "    def __init__(self, dataset):\n",
        "        pass\n",
        "\n",
        "    def __getitem__(self, idx):\n",
        "        pass\n",
        "\n",
        "    def __len__(self):\n",
        "        pass"
      ],
      "metadata": {
        "id": "H5_d_rjAOB7n"
      },
      "execution_count": null,
      "outputs": []
    },
    {
      "cell_type": "code",
      "source": [
        "train_dataset = ConllDataset(...) # only 128 datapoints \n",
        "train_dataloader = ..."
      ],
      "metadata": {
        "id": "3m74IW5yOB5N"
      },
      "execution_count": null,
      "outputs": []
    },
    {
      "cell_type": "code",
      "source": [],
      "metadata": {
        "id": "qctPIx3FOB2j"
      },
      "execution_count": null,
      "outputs": []
    },
    {
      "cell_type": "code",
      "source": [
        "# try to code it on RNN"
      ],
      "metadata": {
        "id": "M6_oMngaReyQ"
      },
      "execution_count": null,
      "outputs": []
    },
    {
      "cell_type": "code",
      "source": [
        "class RNN4POS(torch.nn.Module):\n",
        "    def __init__(self, num_words, num_tags, hidden_size: int = 64, num_layers: int = 1, dropout: float = 0.1):\n",
        "        super().__init__()\n",
        "\n",
        "        self.embeddings = ...\n",
        "        self.rnn = ...\n",
        "        self.cls_head = ...\n",
        "\n",
        "    def forward(self, input_ids):\n",
        "        \"\"\"\n",
        "        Args:\n",
        "            input_ids: Torch.Tensor, shape: (seq_length, batch_size, hidden_size)\n",
        "\n",
        "        To understand inputs for this module, please check rnn_padding:\n",
        "            - https://pytorch.org/docs/stable/generated/torch.nn.utils.rnn.pad_sequence.html\n",
        "            - https://pytorch.org/docs/stable/generated/torch.nn.utils.rnn.pack_padded_sequence.html\n",
        "        \"\"\"\n",
        "        embs = self.embeddings(input_ids)\n",
        "\n",
        "        packed_sequences = ...\n",
        "        rnn_outputs = self.rnn(packed_sequences)\n",
        "        unpacked_sequences = ...\n",
        "\n",
        "        return self.cls_head(unpacked_sequences)"
      ],
      "metadata": {
        "id": "aBCR4h7iLpcm"
      },
      "execution_count": null,
      "outputs": []
    },
    {
      "cell_type": "code",
      "source": [
        "model = RNN4POS(...)\n",
        "optimizer = torch.optim.Adam(model.parameters, lr=1e-3)\n",
        "criterion = ..."
      ],
      "metadata": {
        "id": "-xylrxxfLpaP"
      },
      "execution_count": null,
      "outputs": []
    },
    {
      "cell_type": "code",
      "source": [
        "for idx, batch in enumerate(train_dataloader):\n",
        "    inputs, labels = batch\n",
        "    optimizer.zero_grad()\n",
        "    outputs = model(inputs)\n",
        "    loss = criterion(labels, outputs)\n",
        "    optimizer.step()\n",
        "    print(f\"{idx:>10}: {loss:.3f}\")"
      ],
      "metadata": {
        "id": "qV61uYJMLpXq"
      },
      "execution_count": null,
      "outputs": []
    },
    {
      "cell_type": "code",
      "source": [
        "# delete everythin and run torch.cuda.empty_cache()"
      ],
      "metadata": {
        "id": "hAbbnL7uLIK_"
      },
      "execution_count": null,
      "outputs": []
    },
    {
      "cell_type": "code",
      "source": [
        "del model\n",
        "del optimizer\n",
        "del loss\n",
        "del train_dataloader\n",
        "del train_dataset\n",
        "del batch\n",
        "del inputs\n",
        "del labels\n",
        "del loss"
      ],
      "metadata": {
        "id": "LGmvdzUMOdpK"
      },
      "execution_count": null,
      "outputs": []
    },
    {
      "cell_type": "code",
      "source": [
        "torch.cuda.empty_cache()"
      ],
      "metadata": {
        "id": "MY_hnJFKPHD6"
      },
      "execution_count": null,
      "outputs": []
    },
    {
      "cell_type": "markdown",
      "source": [
        "## Decoder. Text Generation"
      ],
      "metadata": {
        "id": "FHl7ZdTsRlHD"
      }
    },
    {
      "cell_type": "code",
      "source": [
        "# look at dataset (https://huggingface.co/datasets/rotten_tomatoes)"
      ],
      "metadata": {
        "id": "qjeUOmWARn_i"
      },
      "execution_count": null,
      "outputs": []
    },
    {
      "cell_type": "code",
      "source": [
        "rt_dataset = datasets.load_dataset(\"rotten_tomatoes\")"
      ],
      "metadata": {
        "id": "Zg7Vhok2PZlK"
      },
      "execution_count": null,
      "outputs": []
    },
    {
      "cell_type": "code",
      "source": [],
      "metadata": {
        "id": "lEmZ2BlpQVsJ"
      },
      "execution_count": null,
      "outputs": []
    },
    {
      "cell_type": "code",
      "source": [
        "# get num of tags, words"
      ],
      "metadata": {
        "id": "56t00czlSMJ9"
      },
      "execution_count": null,
      "outputs": []
    },
    {
      "cell_type": "code",
      "source": [],
      "metadata": {
        "id": "aSeAX0OdSMHX"
      },
      "execution_count": null,
      "outputs": []
    },
    {
      "cell_type": "code",
      "source": [
        "# create torch dataset"
      ],
      "metadata": {
        "id": "laP8AGP5QVph"
      },
      "execution_count": null,
      "outputs": []
    },
    {
      "cell_type": "code",
      "source": [
        "class RTDataset(torch.utils.data.Dataset):\n",
        "    def __init__(self, dataset):\n",
        "        pass\n",
        "\n",
        "    def __getitem__(self, idx):\n",
        "        pass\n",
        "\n",
        "    def __len__(self):\n",
        "        pass"
      ],
      "metadata": {
        "id": "SCD816iVQVnK"
      },
      "execution_count": null,
      "outputs": []
    },
    {
      "cell_type": "code",
      "source": [],
      "metadata": {
        "id": "gcDrpPA-QUke"
      },
      "execution_count": null,
      "outputs": []
    },
    {
      "cell_type": "code",
      "source": [
        "# write down rnn model"
      ],
      "metadata": {
        "id": "KVFFYfgmRnyh"
      },
      "execution_count": null,
      "outputs": []
    },
    {
      "cell_type": "code",
      "source": [
        "class RNN4GEN(torch.nn.Module):\n",
        "    def __init__(self, num_words, num_tags, hidden_size: int = 64, num_layers: int = 1, dropout: float = 0.1):\n",
        "        super().__init__()\n",
        "\n",
        "        self.embeddings = ...\n",
        "        self.rnn = ...\n",
        "\n",
        "    def forward(self, input_ids):\n",
        "        \"\"\"\n",
        "        Args:\n",
        "            input_ids: Torch.Tensor, shape: (seq_length, batch_size, hidden_size)\n",
        "\n",
        "        To understand inputs for this module, please check rnn_padding:\n",
        "            - https://pytorch.org/docs/stable/generated/torch.nn.utils.rnn.pad_sequence.html\n",
        "            - https://pytorch.org/docs/stable/generated/torch.nn.utils.rnn.pack_padded_sequence.html\n",
        "        \"\"\"\n",
        "        embs = self.embeddings(input_ids)\n",
        "\n",
        "        packed_sequences = ...\n",
        "        rnn_outputs = self.rnn(packed_sequences)\n",
        "        unpacked_sequences = ...\n",
        "\n",
        "        return ...\n",
        "\n",
        "    def predict_one_token(self, input_ids):\n",
        "        \"\"\"\n",
        "        Args:\n",
        "            input_ids: Torch.Tensor, shape: (seq_length, 1, hidden_size)\n",
        "        \"\"\"\n",
        "        pass"
      ],
      "metadata": {
        "id": "YzSGmgGSPY8x"
      },
      "execution_count": null,
      "outputs": []
    },
    {
      "cell_type": "code",
      "source": [
        "model = RNN4POS(...)\n",
        "optimizer = torch.optim.Adam(model.parameters, lr=1e-3)\n",
        "criterion = ..."
      ],
      "metadata": {
        "id": "knUGrNC7R5tz"
      },
      "execution_count": null,
      "outputs": []
    },
    {
      "cell_type": "code",
      "source": [
        "for idx, batch in enumerate(train_dataloader):\n",
        "    inputs, labels = batch\n",
        "    optimizer.zero_grad()\n",
        "    outputs = model(inputs)\n",
        "    loss = criterion(labels, outputs)\n",
        "    optimizer.step()\n",
        "    print(f\"{idx:>10}: {loss:.3f}\")"
      ],
      "metadata": {
        "id": "iCNIb21QR5v5"
      },
      "execution_count": null,
      "outputs": []
    },
    {
      "cell_type": "code",
      "source": [
        "# test it with different generation strategies"
      ],
      "metadata": {
        "id": "cZQwTYZURnWQ"
      },
      "execution_count": null,
      "outputs": []
    },
    {
      "cell_type": "code",
      "source": [
        "def greed_search(...):\n",
        "    ..."
      ],
      "metadata": {
        "id": "4IRWBrqLQzMS"
      },
      "execution_count": null,
      "outputs": []
    },
    {
      "cell_type": "code",
      "source": [
        "def top_k_sample(...):\n",
        "    ..."
      ],
      "metadata": {
        "id": "I485ZyRkQzJ9"
      },
      "execution_count": null,
      "outputs": []
    },
    {
      "cell_type": "code",
      "source": [
        "# check generation"
      ],
      "metadata": {
        "id": "EgH2LUtgQzDb"
      },
      "execution_count": null,
      "outputs": []
    }
  ]
}